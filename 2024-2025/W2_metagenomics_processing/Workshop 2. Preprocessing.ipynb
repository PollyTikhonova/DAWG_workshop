{
 "cells": [
  {
   "cell_type": "markdown",
   "id": "982c5207",
   "metadata": {},
   "source": [
    "# Useful links"
   ]
  },
  {
   "cell_type": "markdown",
   "id": "a0f3e1aa",
   "metadata": {
    "ExecuteTime": {
     "start_time": "2024-10-21T13:54:01.701Z"
    }
   },
   "source": [
    "Manuscript: https://www.nature.com/articles/s41467-023-42788-0 <br>\n",
    "Dataset: https://www.ebi.ac.uk/ena/browser/view/PRJNA400072 <br>\n",
    "\n",
    "---\n",
    "File system on cluster: https://rcportal.hpc.psu.edu/pun/sys/dashboard <br>\n",
    "Preinstalled tools on Roar Collab: https://www.icds.psu.edu/computing-services/software/ <br>\n",
    "KneadData: https://github.com/biobakery/kneaddata <br>\n",
    "Trimmomatic Docs: http://www.usadellab.org/cms/uploads/supplementary/Trimmomatic/TrimmomaticManual_V0.32.pdf  <br>\n",
    "Trimmomatic adapters: https://github.com/timflutre/trimmomatic/tree/master/adapters <br>"
   ]
  },
  {
   "cell_type": "markdown",
   "id": "cb85b25c",
   "metadata": {},
   "source": [
    "### Manuscript Analysis Plan"
   ]
  },
  {
   "cell_type": "markdown",
   "id": "8445a15a",
   "metadata": {
    "ExecuteTime": {
     "start_time": "2024-10-21T13:57:44.016Z"
    }
   },
   "source": [
    "<img src=\"https://media.springernature.com/full/springer-static/image/art%3A10.1038%2Fs41467-023-42788-0/MediaObjects/41467_2023_42788_Fig1_HTML.png?as=webp\">\n",
    "\n"
   ]
  },
  {
   "cell_type": "markdown",
   "id": "3fbb35ff",
   "metadata": {
    "heading_collapsed": true
   },
   "source": [
    "#  Prepare your workspace"
   ]
  },
  {
   "cell_type": "markdown",
   "id": "2908d881",
   "metadata": {
    "heading_collapsed": true,
    "hidden": true
   },
   "source": [
    "#### Step 0. Launch an ineractive job"
   ]
  },
  {
   "cell_type": "code",
   "execution_count": null,
   "id": "c32b94a3",
   "metadata": {
    "hidden": true
   },
   "outputs": [],
   "source": [
    "salloc -N 1 -n 10 -t 24:00:00 --partition=open --account=open --job-name dawg"
   ]
  },
  {
   "cell_type": "markdown",
   "id": "108b24ed",
   "metadata": {
    "heading_collapsed": true,
    "hidden": true
   },
   "source": [
    "#### Step 1. Create a new clean conda environment"
   ]
  },
  {
   "cell_type": "code",
   "execution_count": 1,
   "id": "507ade13",
   "metadata": {
    "ExecuteTime": {
     "end_time": "2024-10-20T21:44:25.974718Z",
     "start_time": "2024-10-20T21:44:20.997667Z"
    },
    "hidden": true
   },
   "outputs": [
    {
     "name": "stdout",
     "output_type": "stream",
     "text": [
      "Channels:\n",
      " - defaults\n",
      "Platform: linux-64\n",
      "Collecting package metadata (repodata.json): done\n",
      "Solving environment: done\n",
      "\n",
      "## Package Plan ##\n",
      "\n",
      "  environment location: /storage/group/exd44/default/pmt5304/conda_envs/workshop2\n",
      "\n",
      "\n",
      "\n",
      "Preparing transaction: done\n",
      "Verifying transaction: done\n",
      "Executing transaction: done\n",
      "#\n",
      "# To activate this environment, use\n",
      "#\n",
      "#     $ conda activate workshop2\n",
      "#\n",
      "# To deactivate an active environment, use\n",
      "#\n",
      "#     $ conda deactivate\n",
      "\n"
     ]
    }
   ],
   "source": [
    "conda create -y -n workshop2 "
   ]
  },
  {
   "cell_type": "code",
   "execution_count": 5,
   "id": "726b54c0",
   "metadata": {
    "ExecuteTime": {
     "end_time": "2024-10-24T22:01:42.357705Z",
     "start_time": "2024-10-24T22:01:41.897041Z"
    },
    "hidden": true
   },
   "outputs": [
    {
     "name": "stdout",
     "output_type": "stream",
     "text": [
      "(/storage/group/exd44/default/pmt5304/conda_envs/workshop2) "
     ]
    },
    {
     "ename": "",
     "evalue": "1",
     "output_type": "error",
     "traceback": []
    }
   ],
   "source": [
    "conda activate workshop2"
   ]
  },
  {
   "cell_type": "markdown",
   "id": "1ad0bd3c",
   "metadata": {
    "heading_collapsed": true,
    "hidden": true
   },
   "source": [
    "#### Step 3. Install libraries"
   ]
  },
  {
   "cell_type": "code",
   "execution_count": null,
   "id": "fe096b9a",
   "metadata": {
    "hidden": true
   },
   "outputs": [],
   "source": [
    "conda install -y -c bioconda trimmomatic bowtie2=2.3.5.1"
   ]
  },
  {
   "cell_type": "markdown",
   "id": "9de19cae",
   "metadata": {
    "heading_collapsed": true,
    "hidden": true
   },
   "source": [
    "#### Step 2. Save a workpath directory to a variable"
   ]
  },
  {
   "cell_type": "code",
   "execution_count": 6,
   "id": "1817a46c",
   "metadata": {
    "ExecuteTime": {
     "end_time": "2024-10-24T22:01:44.694418Z",
     "start_time": "2024-10-24T22:01:44.590973Z"
    },
    "hidden": true
   },
   "outputs": [
    {
     "name": "stdout",
     "output_type": "stream",
     "text": [
      "(/storage/group/exd44/default/pmt5304/conda_envs/workshop2) "
     ]
    },
    {
     "ename": "",
     "evalue": "1",
     "output_type": "error",
     "traceback": []
    }
   ],
   "source": [
    "WORKDIR=`pwd`"
   ]
  },
  {
   "cell_type": "code",
   "execution_count": 7,
   "id": "a32f9ee9",
   "metadata": {
    "ExecuteTime": {
     "end_time": "2024-10-24T22:01:45.385329Z",
     "start_time": "2024-10-24T22:01:45.281893Z"
    },
    "hidden": true
   },
   "outputs": [
    {
     "name": "stdout",
     "output_type": "stream",
     "text": [
      "/storage/group/exd44/default/pmt5304/DAWG/Workshops/24FA_w2_preprocessing\n",
      "(/storage/group/exd44/default/pmt5304/conda_envs/workshop2) "
     ]
    },
    {
     "ename": "",
     "evalue": "1",
     "output_type": "error",
     "traceback": []
    }
   ],
   "source": [
    "echo $WORKDIR"
   ]
  },
  {
   "cell_type": "code",
   "execution_count": 8,
   "id": "e7298179",
   "metadata": {
    "ExecuteTime": {
     "end_time": "2024-10-24T22:01:46.019028Z",
     "start_time": "2024-10-24T22:01:45.864847Z"
    },
    "hidden": true,
    "scrolled": true
   },
   "outputs": [
    {
     "name": "stdout",
     "output_type": "stream",
     "text": [
      "(/storage/group/exd44/default/pmt5304/conda_envs/workshop2) /scratch/pmt5304/\n",
      "(/storage/group/exd44/default/pmt5304/conda_envs/workshop2) "
     ]
    },
    {
     "ename": "",
     "evalue": "1",
     "output_type": "error",
     "traceback": []
    }
   ],
   "source": [
    "INPUT='/scratch/pmt5304/'\n",
    "echo $INPUT"
   ]
  },
  {
   "cell_type": "markdown",
   "id": "4cbfa2be",
   "metadata": {
    "heading_collapsed": true
   },
   "source": [
    "# Downloading files"
   ]
  },
  {
   "cell_type": "markdown",
   "id": "ec4bf8d7",
   "metadata": {
    "heading_collapsed": true,
    "hidden": true
   },
   "source": [
    "#### Step 0. Find & Install neccesary tools: sra-tools "
   ]
  },
  {
   "cell_type": "code",
   "execution_count": 2,
   "id": "af9646e4",
   "metadata": {
    "ExecuteTime": {
     "end_time": "2024-10-20T21:46:30.943142Z",
     "start_time": "2024-10-20T21:45:41.823755Z"
    },
    "hidden": true,
    "scrolled": true
   },
   "outputs": [
    {
     "name": "stdout",
     "output_type": "stream",
     "text": [
      "Channels:\n",
      " - defaults\n",
      " - bioconda\n",
      "Platform: linux-64\n",
      "Collecting package metadata (repodata.json): done\n",
      "Solving environment: done\n",
      "\n",
      "## Package Plan ##\n",
      "\n",
      "  environment location: /storage/group/exd44/default/pmt5304/conda_envs/workshop2\n",
      "\n",
      "  added / updated specs:\n",
      "    - bioconda::sra-tools\n",
      "\n",
      "\n",
      "The following packages will be downloaded:\n",
      "\n",
      "    package                    |            build\n",
      "    ---------------------------|-----------------\n",
      "    icu-58.2                   |       he6710b0_3        10.5 MB\n",
      "    libxml2-2.9.14             |       h74e7548_0         718 KB\n",
      "    ncbi-ngs-sdk-2.11.2        |       hff44eed_0         2.3 MB  bioconda\n",
      "    ------------------------------------------------------------\n",
      "                                           Total:        13.5 MB\n",
      "\n",
      "The following NEW packages will be INSTALLED:\n",
      "\n",
      "  _libgcc_mutex      pkgs/main/linux-64::_libgcc_mutex-0.1-main \n",
      "  _openmp_mutex      pkgs/main/linux-64::_openmp_mutex-5.1-1_gnu \n",
      "  icu                pkgs/main/linux-64::icu-58.2-he6710b0_3 \n",
      "  libgcc-ng          pkgs/main/linux-64::libgcc-ng-11.2.0-h1234567_1 \n",
      "  libgomp            pkgs/main/linux-64::libgomp-11.2.0-h1234567_1 \n",
      "  libiconv           pkgs/main/linux-64::libiconv-1.16-h5eee18b_3 \n",
      "  libstdcxx-ng       pkgs/main/linux-64::libstdcxx-ng-11.2.0-h1234567_1 \n",
      "  libxml2            pkgs/main/linux-64::libxml2-2.9.14-h74e7548_0 \n",
      "  ncbi-ngs-sdk       bioconda/linux-64::ncbi-ngs-sdk-2.11.2-hff44eed_0 \n",
      "  perl               pkgs/main/linux-64::perl-5.26.2-h14c3975_0 \n",
      "  perl-app-cpanminus bioconda/linux-64::perl-app-cpanminus-1.7044-pl526_1 \n",
      "  perl-business-isbn bioconda/linux-64::perl-business-isbn-3.004-pl526_0 \n",
      "  perl-business-isb~ bioconda/linux-64::perl-business-isbn-data-20140910.003-pl526_0 \n",
      "  perl-carp          bioconda/linux-64::perl-carp-1.38-pl526_3 \n",
      "  perl-constant      bioconda/linux-64::perl-constant-1.33-pl526_1 \n",
      "  perl-data-dumper   bioconda/linux-64::perl-data-dumper-2.173-pl526_0 \n",
      "  perl-encode        bioconda/linux-64::perl-encode-2.88-pl526_1 \n",
      "  perl-exporter      bioconda/linux-64::perl-exporter-5.72-pl526_1 \n",
      "  perl-extutils-mak~ bioconda/linux-64::perl-extutils-makemaker-7.36-pl526_1 \n",
      "  perl-file-path     bioconda/linux-64::perl-file-path-2.16-pl526_0 \n",
      "  perl-file-temp     bioconda/linux-64::perl-file-temp-0.2304-pl526_2 \n",
      "  perl-mime-base64   bioconda/linux-64::perl-mime-base64-3.15-pl526_1 \n",
      "  perl-parent        bioconda/linux-64::perl-parent-0.236-pl526_1 \n",
      "  perl-uri           bioconda/linux-64::perl-uri-1.76-pl526_0 \n",
      "  perl-xml-libxml    bioconda/linux-64::perl-xml-libxml-2.0132-pl526h7ec2d77_1 \n",
      "  perl-xml-namespac~ bioconda/linux-64::perl-xml-namespacesupport-1.12-pl526_0 \n",
      "  perl-xml-sax       bioconda/noarch::perl-xml-sax-1.02-pl526_0 \n",
      "  perl-xml-sax-base  bioconda/linux-64::perl-xml-sax-base-1.09-pl526_0 \n",
      "  perl-xsloader      bioconda/linux-64::perl-xsloader-0.24-pl526_0 \n",
      "  sra-tools          bioconda/linux-64::sra-tools-2.10.0-pl526he1b5a44_0 \n",
      "  xz                 pkgs/main/linux-64::xz-5.4.6-h5eee18b_1 \n",
      "  zlib               pkgs/main/linux-64::zlib-1.2.13-h5eee18b_1 \n",
      "\n",
      "\n",
      "\n",
      "Downloading and Extracting Packages\n",
      "libxml2-2.9.14       | 718 KB    |                                       |   0% \n",
      "icu-58.2             | 10.5 MB   |                                       |   0% \u001b[A\n",
      "\n",
      "libxml2-2.9.14       | 718 KB    | 8                                     |   2% \u001b[A\u001b[A\n",
      "icu-58.2             | 10.5 MB   |                                       |   0% \u001b[A\n",
      "\n",
      "ncbi-ngs-sdk-2.11.2  | 2.3 MB    | 2                                     |   1% \u001b[A\u001b[A\n",
      "libxml2-2.9.14       | 718 KB    | ##################################### | 100% \u001b[A\n",
      "\n",
      "ncbi-ngs-sdk-2.11.2  | 2.3 MB    | ##################################### | 100% \u001b[A\u001b[A\n",
      "\n",
      "ncbi-ngs-sdk-2.11.2  | 2.3 MB    | ##################################### | 100% \u001b[A\u001b[A\n",
      "icu-58.2             | 10.5 MB   | ##################################### | 100% \u001b[A\n",
      "                                                                                \u001b[A\n",
      "                                                                                \u001b[A\n",
      "\n",
      "                                                                                \u001b[A\u001b[A\n",
      "Preparing transaction: done\n",
      "Verifying transaction: done\n",
      "Executing transaction: done\n",
      "(/storage/group/exd44/default/pmt5304/conda_envs/workshop2) "
     ]
    },
    {
     "ename": "",
     "evalue": "1",
     "output_type": "error",
     "traceback": []
    }
   ],
   "source": [
    "conda install -y bioconda::sra-tools # install a downloading tool"
   ]
  },
  {
   "cell_type": "markdown",
   "id": "7f7c46c2",
   "metadata": {
    "heading_collapsed": true,
    "hidden": true
   },
   "source": [
    "#### Step 1. Create output directory"
   ]
  },
  {
   "cell_type": "code",
   "execution_count": 3,
   "id": "cdd61b60",
   "metadata": {
    "ExecuteTime": {
     "end_time": "2024-10-20T21:46:36.852822Z",
     "start_time": "2024-10-20T21:46:36.742802Z"
    },
    "hidden": true
   },
   "outputs": [
    {
     "name": "stdout",
     "output_type": "stream",
     "text": [
      "(/storage/group/exd44/default/pmt5304/conda_envs/workshop2) "
     ]
    },
    {
     "ename": "",
     "evalue": "1",
     "output_type": "error",
     "traceback": []
    }
   ],
   "source": [
    "mkdir -p data/raw"
   ]
  },
  {
   "cell_type": "markdown",
   "id": "7a777e73",
   "metadata": {
    "heading_collapsed": true,
    "hidden": true
   },
   "source": [
    "#### Step 2. Download files"
   ]
  },
  {
   "cell_type": "code",
   "execution_count": 5,
   "id": "19fa65ee",
   "metadata": {
    "ExecuteTime": {
     "end_time": "2024-10-20T22:00:03.328735Z",
     "start_time": "2024-10-20T21:46:56.128976Z"
    },
    "hidden": true
   },
   "outputs": [
    {
     "name": "stdout",
     "output_type": "stream",
     "text": [
      "Rejected 148 READS because READLEN < 1\n",
      "Read 11775766 spots for SRR6468499\n",
      "Written 11775766 spots for SRR6468499\n",
      "Rejected 8899 READS because READLEN < 1\n",
      "Read 17871301 spots for SRR6468511\n",
      "Written 17871301 spots for SRR6468511\n",
      "(/storage/group/exd44/default/pmt5304/conda_envs/workshop2) "
     ]
    },
    {
     "ename": "",
     "evalue": "1",
     "output_type": "error",
     "traceback": []
    }
   ],
   "source": [
    "fastq-dump --outdir data/raw --split-files SRR6468499 SRR6468511"
   ]
  },
  {
   "cell_type": "markdown",
   "id": "125a847f",
   "metadata": {
    "heading_collapsed": true,
    "hidden": true,
    "tags": [
     "alert-danger"
    ]
   },
   "source": [
    "#### Possible errors"
   ]
  },
  {
   "cell_type": "markdown",
   "id": "a7db8bc7",
   "metadata": {
    "hidden": true,
    "tags": [
     "alert-danger"
    ]
   },
   "source": [
    "#####  Error 1: warn: nothing found for XXX"
   ]
  },
  {
   "cell_type": "code",
   "execution_count": 1,
   "id": "d622aa7c",
   "metadata": {
    "ExecuteTime": {
     "end_time": "2024-10-19T18:18:03.837884Z",
     "start_time": "2024-10-19T18:18:03.724316Z"
    },
    "hidden": true,
    "scrolled": true,
    "tags": [
     "alert-danger"
    ]
   },
   "outputs": [
    {
     "name": "stdout",
     "output_type": "stream",
     "text": [
      "bash: fastq-dump: command not found\n"
     ]
    },
    {
     "ename": "",
     "evalue": "127",
     "output_type": "error",
     "traceback": []
    }
   ],
   "source": [
    "fastq-dump --split-files SRR6468499,SRR6468511  "
   ]
  },
  {
   "cell_type": "markdown",
   "id": "410bf259",
   "metadata": {
    "heading_collapsed": true,
    "hidden": true,
    "jp-MarkdownHeadingCollapsed": true,
    "tags": [
     "alert-warning"
    ]
   },
   "source": [
    "##### Why this happend?"
   ]
  },
  {
   "cell_type": "markdown",
   "id": "dd392ee8",
   "metadata": {
    "hidden": true,
    "tags": [
     "alert-warning"
    ]
   },
   "source": [
    "1. Wrong sra_id\n",
    "2. Multiple input elements were listed using separators other than comma"
   ]
  },
  {
   "cell_type": "markdown",
   "id": "9210dba9",
   "metadata": {
    "heading_collapsed": true
   },
   "source": [
    "# Zip it to reduce space"
   ]
  },
  {
   "cell_type": "code",
   "execution_count": 16,
   "id": "77f3f1bf",
   "metadata": {
    "ExecuteTime": {
     "end_time": "2024-10-20T22:07:06.637363Z",
     "start_time": "2024-10-20T22:07:06.521560Z"
    },
    "hidden": true
   },
   "outputs": [
    {
     "name": "stdout",
     "output_type": "stream",
     "text": [
      "total 16G\n",
      "-rw-rw-r-- 1 pmt5304 exd44_collab 3.1G Oct 20 17:52 SRR6468499_1.fastq\n",
      "-rw-rw-r-- 1 pmt5304 exd44_collab 3.1G Oct 20 17:52 SRR6468499_2.fastq\n",
      "-rw-rw-r-- 1 pmt5304 exd44_collab 4.7G Oct 20 18:00 SRR6468511_1.fastq\n",
      "-rw-rw-r-- 1 pmt5304 exd44_collab 4.7G Oct 20 18:00 SRR6468511_2.fastq\n",
      "(/storage/group/exd44/default/pmt5304/conda_envs/workshop2) "
     ]
    },
    {
     "ename": "",
     "evalue": "1",
     "output_type": "error",
     "traceback": []
    }
   ],
   "source": [
    "ls -lh $WORKDIR/data/raw_unzipped"
   ]
  },
  {
   "cell_type": "code",
   "execution_count": 19,
   "id": "6264228c",
   "metadata": {
    "ExecuteTime": {
     "end_time": "2024-10-20T22:40:33.134088Z",
     "start_time": "2024-10-20T22:27:50.568743Z"
    },
    "hidden": true
   },
   "outputs": [
    {
     "name": "stdout",
     "output_type": "stream",
     "text": [
      "(/storage/group/exd44/default/pmt5304/conda_envs/workshop2) (/storage/group/exd44/default/pmt5304/conda_envs/workshop2) (/storage/group/exd44/default/pmt5304/conda_envs/workshop2) (/storage/group/exd44/default/pmt5304/conda_envs/workshop2) (/storage/group/exd44/default/pmt5304/conda_envs/workshop2) "
     ]
    },
    {
     "ename": "",
     "evalue": "1",
     "output_type": "error",
     "traceback": []
    }
   ],
   "source": [
    "# please, not that this command will replace your fastq files with fastq.gz\n",
    "# if you want to preserve the originial files, please use -c option\n",
    "gzip $WORKDIR/data/raw/SRR6468511_1.fastq \\\n",
    "     $WORKDIR/data/raw/SRR6468511_2.fastq \\\n",
    "     $WORKDIR/data/raw/SRR6468499_1.fastq \\\n",
    "     $WORKDIR/data/raw/SRR6468499_2.fastq "
   ]
  },
  {
   "cell_type": "code",
   "execution_count": 20,
   "id": "72a212ac",
   "metadata": {
    "ExecuteTime": {
     "end_time": "2024-10-20T22:46:34.014587Z",
     "start_time": "2024-10-20T22:46:33.903013Z"
    },
    "hidden": true
   },
   "outputs": [
    {
     "name": "stdout",
     "output_type": "stream",
     "text": [
      "total 4.7G\n",
      "-rw-rw-r-- 1 pmt5304 exd44_collab 1000M Oct 20 17:52 \u001b[0m\u001b[38;5;9mSRR6468499_1.fastq.gz\u001b[0m\n",
      "-rw-rw-r-- 1 pmt5304 exd44_collab  997M Oct 20 17:52 \u001b[38;5;9mSRR6468499_2.fastq.gz\u001b[0m\n",
      "-rw-rw-r-- 1 pmt5304 exd44_collab  1.4G Oct 20 18:00 \u001b[38;5;9mSRR6468511_1.fastq.gz\u001b[0m\n",
      "-rw-rw-r-- 1 pmt5304 exd44_collab  1.4G Oct 20 18:00 \u001b[38;5;9mSRR6468511_2.fastq.gz\u001b[0m\n",
      "(/storage/group/exd44/default/pmt5304/conda_envs/workshop2) "
     ]
    },
    {
     "ename": "",
     "evalue": "1",
     "output_type": "error",
     "traceback": []
    }
   ],
   "source": [
    "ls -lh $WORKDIR/data/raw"
   ]
  },
  {
   "cell_type": "markdown",
   "id": "55692735",
   "metadata": {
    "hidden": true
   },
   "source": [
    "### Workshop purposes only: copy downloaded files "
   ]
  },
  {
   "cell_type": "code",
   "execution_count": 13,
   "id": "8693178a",
   "metadata": {
    "ExecuteTime": {
     "end_time": "2024-10-20T22:04:44.847349Z",
     "start_time": "2024-10-20T22:04:44.729377Z"
    },
    "hidden": true,
    "scrolled": true
   },
   "outputs": [
    {
     "name": "stdout",
     "output_type": "stream",
     "text": [
      "(/storage/group/exd44/default/pmt5304/conda_envs/workshop2) "
     ]
    },
    {
     "ename": "",
     "evalue": "1",
     "output_type": "error",
     "traceback": []
    }
   ],
   "source": [
    "# create a data direcory and raw subdirectory in your workdirectory\n",
    "mkdir -p $WORKDIR/data/raw"
   ]
  },
  {
   "cell_type": "code",
   "execution_count": 15,
   "id": "969881cd",
   "metadata": {
    "ExecuteTime": {
     "end_time": "2024-10-20T22:05:36.376281Z",
     "start_time": "2024-10-20T22:04:55.669638Z"
    },
    "hidden": true,
    "scrolled": true
   },
   "outputs": [
    {
     "name": "stdout",
     "output_type": "stream",
     "text": [
      "(/storage/group/exd44/default/pmt5304/conda_envs/workshop2) "
     ]
    },
    {
     "ename": "",
     "evalue": "1",
     "output_type": "error",
     "traceback": []
    }
   ],
   "source": [
    "# copy all files from $INPUT/data/raw directory to $WORKDIR/data/raw\n",
    "cp $INPUT/data/raw/* $WORKDIR/data/raw"
   ]
  },
  {
   "cell_type": "code",
   "execution_count": null,
   "id": "e6739056",
   "metadata": {
    "hidden": true
   },
   "outputs": [],
   "source": [
    "# look, which files were transfered and their sizes\n",
    "ls -lh $WORKDIR/data/raw"
   ]
  },
  {
   "cell_type": "markdown",
   "id": "d1e95266",
   "metadata": {
    "heading_collapsed": true
   },
   "source": [
    "# Quality Control"
   ]
  },
  {
   "cell_type": "markdown",
   "id": "a70462cd",
   "metadata": {
    "heading_collapsed": true,
    "hidden": true
   },
   "source": [
    "#### Step 0. Find & Install neccesary tools: fastqc"
   ]
  },
  {
   "cell_type": "code",
   "execution_count": 21,
   "id": "50115032",
   "metadata": {
    "ExecuteTime": {
     "end_time": "2024-10-20T22:47:38.058491Z",
     "start_time": "2024-10-20T22:47:37.550405Z"
    },
    "hidden": true
   },
   "outputs": [
    {
     "name": "stdout",
     "output_type": "stream",
     "text": [
      "(/storage/group/exd44/default/pmt5304/conda_envs/workshop2) "
     ]
    },
    {
     "ename": "",
     "evalue": "1",
     "output_type": "error",
     "traceback": []
    }
   ],
   "source": [
    "module load fastqc/0.11.9"
   ]
  },
  {
   "cell_type": "markdown",
   "id": "352b76d1",
   "metadata": {
    "heading_collapsed": true,
    "hidden": true
   },
   "source": [
    "#### Step 1. Create output directory"
   ]
  },
  {
   "cell_type": "code",
   "execution_count": 22,
   "id": "9759a20c",
   "metadata": {
    "ExecuteTime": {
     "end_time": "2024-10-20T22:47:39.883141Z",
     "start_time": "2024-10-20T22:47:39.707182Z"
    },
    "hidden": true
   },
   "outputs": [
    {
     "name": "stdout",
     "output_type": "stream",
     "text": [
      "(/storage/group/exd44/default/pmt5304/conda_envs/workshop2) (/storage/group/exd44/default/pmt5304/conda_envs/workshop2) "
     ]
    },
    {
     "ename": "",
     "evalue": "1",
     "output_type": "error",
     "traceback": []
    }
   ],
   "source": [
    "# create an output directory\n",
    "mkdir -p $WORKDIR/fastqc_reports/raw"
   ]
  },
  {
   "cell_type": "markdown",
   "id": "3fe749a3",
   "metadata": {
    "heading_collapsed": true,
    "hidden": true
   },
   "source": [
    "#### Step 2. Perform quality control"
   ]
  },
  {
   "cell_type": "code",
   "execution_count": 26,
   "id": "4bee8e5b",
   "metadata": {
    "ExecuteTime": {
     "end_time": "2024-10-20T22:50:28.632522Z",
     "start_time": "2024-10-20T22:48:38.712392Z"
    },
    "hidden": true,
    "scrolled": true
   },
   "outputs": [
    {
     "name": "stdout",
     "output_type": "stream",
     "text": [
      "Started analysis of SRR6468499_1.fastq.gz\n",
      "Started analysis of SRR6468499_2.fastq.gz\n",
      "Started analysis of SRR6468511_1.fastq.gz\n",
      "Started analysis of SRR6468511_2.fastq.gz\n",
      "Approx 5% complete for SRR6468499_1.fastq.gz\n",
      "Approx 5% complete for SRR6468499_2.fastq.gz\n",
      "Approx 5% complete for SRR6468511_1.fastq.gz\n",
      "Approx 5% complete for SRR6468511_2.fastq.gz\n",
      "Approx 10% complete for SRR6468499_1.fastq.gz\n",
      "Approx 10% complete for SRR6468499_2.fastq.gz\n",
      "Approx 10% complete for SRR6468511_1.fastq.gz\n",
      "Approx 15% complete for SRR6468499_1.fastq.gz\n",
      "Approx 10% complete for SRR6468511_2.fastq.gz\n",
      "Approx 15% complete for SRR6468499_2.fastq.gz\n",
      "Approx 20% complete for SRR6468499_1.fastq.gz\n",
      "Approx 20% complete for SRR6468499_2.fastq.gz\n",
      "Approx 15% complete for SRR6468511_1.fastq.gz\n",
      "Approx 15% complete for SRR6468511_2.fastq.gz\n",
      "Approx 25% complete for SRR6468499_1.fastq.gz\n",
      "Approx 25% complete for SRR6468499_2.fastq.gz\n",
      "Approx 20% complete for SRR6468511_1.fastq.gz\n",
      "Approx 20% complete for SRR6468511_2.fastq.gz\n",
      "Approx 30% complete for SRR6468499_1.fastq.gz\n",
      "Approx 30% complete for SRR6468499_2.fastq.gz\n",
      "Approx 35% complete for SRR6468499_1.fastq.gz\n",
      "Approx 25% complete for SRR6468511_1.fastq.gz\n",
      "Approx 35% complete for SRR6468499_2.fastq.gz\n",
      "Approx 25% complete for SRR6468511_2.fastq.gz\n",
      "Approx 40% complete for SRR6468499_1.fastq.gz\n",
      "Approx 40% complete for SRR6468499_2.fastq.gz\n",
      "Approx 30% complete for SRR6468511_1.fastq.gz\n",
      "Approx 30% complete for SRR6468511_2.fastq.gz\n",
      "Approx 45% complete for SRR6468499_1.fastq.gz\n",
      "Approx 45% complete for SRR6468499_2.fastq.gz\n",
      "Approx 35% complete for SRR6468511_1.fastq.gz\n",
      "Approx 50% complete for SRR6468499_1.fastq.gz\n",
      "Approx 35% complete for SRR6468511_2.fastq.gz\n",
      "Approx 50% complete for SRR6468499_2.fastq.gz\n",
      "Approx 55% complete for SRR6468499_1.fastq.gz\n",
      "Approx 55% complete for SRR6468499_2.fastq.gz\n",
      "Approx 40% complete for SRR6468511_1.fastq.gz\n",
      "Approx 40% complete for SRR6468511_2.fastq.gz\n",
      "Approx 60% complete for SRR6468499_1.fastq.gz\n",
      "Approx 60% complete for SRR6468499_2.fastq.gz\n",
      "Approx 45% complete for SRR6468511_1.fastq.gz\n",
      "Approx 65% complete for SRR6468499_1.fastq.gz\n",
      "Approx 45% complete for SRR6468511_2.fastq.gz\n",
      "Approx 65% complete for SRR6468499_2.fastq.gz\n",
      "Approx 70% complete for SRR6468499_1.fastq.gz\n",
      "Approx 70% complete for SRR6468499_2.fastq.gz\n",
      "Approx 50% complete for SRR6468511_1.fastq.gz\n",
      "Approx 50% complete for SRR6468511_2.fastq.gz\n",
      "Approx 75% complete for SRR6468499_1.fastq.gz\n",
      "Approx 75% complete for SRR6468499_2.fastq.gz\n",
      "Approx 80% complete for SRR6468499_1.fastq.gz\n",
      "Approx 55% complete for SRR6468511_1.fastq.gz\n",
      "Approx 80% complete for SRR6468499_2.fastq.gz\n",
      "Approx 55% complete for SRR6468511_2.fastq.gz\n",
      "Approx 85% complete for SRR6468499_1.fastq.gz\n",
      "Approx 85% complete for SRR6468499_2.fastq.gz\n",
      "Approx 60% complete for SRR6468511_1.fastq.gz\n",
      "Approx 60% complete for SRR6468511_2.fastq.gz\n",
      "Approx 90% complete for SRR6468499_1.fastq.gz\n",
      "Approx 90% complete for SRR6468499_2.fastq.gz\n",
      "Approx 95% complete for SRR6468499_1.fastq.gz\n",
      "Approx 95% complete for SRR6468499_2.fastq.gz\n",
      "Approx 65% complete for SRR6468511_1.fastq.gz\n",
      "Approx 65% complete for SRR6468511_2.fastq.gz\n",
      "Analysis complete for SRR6468499_1.fastq.gz\n",
      "Analysis complete for SRR6468499_2.fastq.gz\n",
      "Approx 70% complete for SRR6468511_1.fastq.gz\n",
      "Approx 70% complete for SRR6468511_2.fastq.gz\n",
      "Approx 75% complete for SRR6468511_1.fastq.gz\n",
      "Approx 75% complete for SRR6468511_2.fastq.gz\n",
      "Approx 80% complete for SRR6468511_1.fastq.gz\n",
      "Approx 80% complete for SRR6468511_2.fastq.gz\n",
      "Approx 85% complete for SRR6468511_1.fastq.gz\n",
      "Approx 85% complete for SRR6468511_2.fastq.gz\n",
      "Approx 90% complete for SRR6468511_1.fastq.gz\n",
      "Approx 90% complete for SRR6468511_2.fastq.gz\n",
      "Approx 95% complete for SRR6468511_1.fastq.gz\n",
      "Approx 95% complete for SRR6468511_2.fastq.gz\n",
      "Analysis complete for SRR6468511_1.fastq.gz\n",
      "Analysis complete for SRR6468511_2.fastq.gz\n",
      "(/storage/group/exd44/default/pmt5304/conda_envs/workshop2) "
     ]
    },
    {
     "ename": "",
     "evalue": "1",
     "output_type": "error",
     "traceback": []
    }
   ],
   "source": [
    "fastqc --threads 4 \\\n",
    "        -o $WORKDIR/fastqc_reports/raw \\\n",
    "           $WORKDIR/data/raw/SRR6468499_1.fastq.gz \\\n",
    "           $WORKDIR/data/raw/SRR6468499_2.fastq.gz \\\n",
    "           $WORKDIR/data/raw/SRR6468511_1.fastq.gz \\\n",
    "           $WORKDIR/data/raw/SRR6468511_2.fastq.gz"
   ]
  },
  {
   "cell_type": "markdown",
   "id": "b4877391",
   "metadata": {
    "ExecuteTime": {
     "end_time": "2024-10-19T18:36:19.180937Z",
     "start_time": "2024-10-19T18:36:19.071888Z"
    },
    "heading_collapsed": true,
    "hidden": true
   },
   "source": [
    "#### Step 3. Unload the module"
   ]
  },
  {
   "cell_type": "code",
   "execution_count": 27,
   "id": "fe91cb34",
   "metadata": {
    "ExecuteTime": {
     "end_time": "2024-10-20T22:51:59.062036Z",
     "start_time": "2024-10-20T22:51:58.895970Z"
    },
    "hidden": true
   },
   "outputs": [
    {
     "name": "stdout",
     "output_type": "stream",
     "text": [
      "(/storage/group/exd44/default/pmt5304/conda_envs/workshop2) "
     ]
    },
    {
     "ename": "",
     "evalue": "1",
     "output_type": "error",
     "traceback": []
    }
   ],
   "source": [
    "module unload fastqc/0.11.9"
   ]
  },
  {
   "cell_type": "markdown",
   "id": "a6dc2f94",
   "metadata": {
    "heading_collapsed": true,
    "hidden": true
   },
   "source": [
    "#### Step 4. Download fastqc reports"
   ]
  },
  {
   "cell_type": "markdown",
   "id": "0949b1a0",
   "metadata": {
    "ExecuteTime": {
     "end_time": "2024-10-20T22:53:31.252765Z",
     "start_time": "2024-10-20T22:53:31.149292Z"
    },
    "hidden": true
   },
   "source": [
    "Please, download files from OnDemand filesystem interface: https://rcportal.hpc.psu.edu  "
   ]
  },
  {
   "cell_type": "markdown",
   "id": "3ce42cfb",
   "metadata": {
    "heading_collapsed": true,
    "hidden": true,
    "tags": [
     "alert-danger"
    ]
   },
   "source": [
    "## Possible errors"
   ]
  },
  {
   "cell_type": "markdown",
   "id": "dee3c664",
   "metadata": {
    "hidden": true,
    "tags": [
     "alert-danger"
    ]
   },
   "source": [
    "### Error 1. Specified output directory XXX does not exist"
   ]
  },
  {
   "cell_type": "code",
   "execution_count": null,
   "id": "386a78b2",
   "metadata": {
    "hidden": true,
    "tags": [
     "alert-danger"
    ]
   },
   "outputs": [],
   "source": [
    "# Specified output directory 'fastqc_reports/raw' does not exist\n",
    "fastqc -o fastqc_reports/raw data/SRR6468499 data/SRR6468511"
   ]
  },
  {
   "cell_type": "markdown",
   "id": "1fb30fed",
   "metadata": {
    "heading_collapsed": true,
    "hidden": true,
    "tags": [
     "alert-warning"
    ]
   },
   "source": [
    "#### Why this happend?"
   ]
  },
  {
   "cell_type": "markdown",
   "id": "c8fd09f9",
   "metadata": {
    "hidden": true,
    "tags": [
     "alert-warning"
    ]
   },
   "source": [
    "1. Mistype\n",
    "2. The folder does not exist"
   ]
  },
  {
   "cell_type": "markdown",
   "id": "27fa11a2",
   "metadata": {
    "ExecuteTime": {
     "end_time": "2024-10-19T18:47:09.479255Z",
     "start_time": "2024-10-19T18:47:09.369732Z"
    },
    "hidden": true,
    "tags": [
     "alert-danger"
    ]
   },
   "source": [
    "### Error 2. Skipping XXX which didn't exist, or couldn't be read"
   ]
  },
  {
   "cell_type": "code",
   "execution_count": null,
   "id": "4acf89cc",
   "metadata": {
    "hidden": true,
    "tags": [
     "alert-danger"
    ]
   },
   "outputs": [],
   "source": [
    "fastqc -o fastqc_reports/raw\\\n",
    "         data/SRR6468499 \\\n",
    "         data/SRR6468511"
   ]
  },
  {
   "cell_type": "markdown",
   "id": "46d6494e",
   "metadata": {
    "heading_collapsed": true,
    "hidden": true,
    "tags": [
     "alert-warning"
    ]
   },
   "source": [
    "#### Why this happened"
   ]
  },
  {
   "cell_type": "markdown",
   "id": "31f12a61",
   "metadata": {
    "ExecuteTime": {
     "end_time": "2024-10-19T18:48:33.379758Z",
     "start_time": "2024-10-19T18:48:33.270537Z"
    },
    "hidden": true,
    "tags": [
     "alert-warning"
    ]
   },
   "source": [
    "1. The file does not exist - possibly wrong file name.\n",
    "2. The permissions to read the file are not granted to you."
   ]
  },
  {
   "cell_type": "markdown",
   "id": "f498ac0b",
   "metadata": {},
   "source": [
    "# Trimming"
   ]
  },
  {
   "cell_type": "markdown",
   "id": "539845b2",
   "metadata": {
    "heading_collapsed": true
   },
   "source": [
    "#### Step 0. Find and intall tool"
   ]
  },
  {
   "cell_type": "code",
   "execution_count": 24,
   "id": "66204a9e",
   "metadata": {
    "ExecuteTime": {
     "end_time": "2024-10-20T23:53:32.704885Z",
     "start_time": "2024-10-20T23:51:36.650405Z"
    },
    "hidden": true,
    "scrolled": true
   },
   "outputs": [
    {
     "name": "stdout",
     "output_type": "stream",
     "text": [
      "Channels:\n",
      " - defaults\n",
      " - bioconda\n",
      "Platform: linux-64\n",
      "Collecting package metadata (repodata.json): done\n",
      "Solving environment: done\n",
      "\n",
      "## Package Plan ##\n",
      "\n",
      "  environment location: /storage/group/exd44/default/pmt5304/conda_envs/workshop2\n",
      "\n",
      "  added / updated specs:\n",
      "    - bioconda::trimmomatic\n",
      "    - python=3.7\n",
      "\n",
      "\n",
      "The following packages will be downloaded:\n",
      "\n",
      "    package                    |            build\n",
      "    ---------------------------|-----------------\n",
      "    certifi-2022.12.7          |   py37h06a4308_0         150 KB\n",
      "    ncbi-ngs-sdk-2.9.0         |                0         560 KB  bioconda\n",
      "    openssl-1.1.1w             |       h7f8727e_0         3.7 MB\n",
      "    pip-22.3.1                 |   py37h06a4308_0         2.7 MB\n",
      "    python-3.7.16              |       h7a1cb2a_0        44.8 MB\n",
      "    setuptools-65.6.3          |   py37h06a4308_0         1.1 MB\n",
      "    wheel-0.38.4               |   py37h06a4308_0          63 KB\n",
      "    ------------------------------------------------------------\n",
      "                                           Total:        53.2 MB\n",
      "\n",
      "The following NEW packages will be INSTALLED:\n",
      "\n",
      "  certifi            pkgs/main/linux-64::certifi-2022.12.7-py37h06a4308_0 \n",
      "\n",
      "The following packages will be REMOVED:\n",
      "\n",
      "  python_abi-3.13-0_cp313\n",
      "\n",
      "The following packages will be UPDATED:\n",
      "\n",
      "  icu                                       58.2-he6710b0_3 --> 73.1-h6a678d5_0 \n",
      "\n",
      "The following packages will be DOWNGRADED:\n",
      "\n",
      "  libxml2                                 2.9.14-h74e7548_0 --> 2.9.9-hea5a465_1 \n",
      "  ncbi-ngs-sdk                            2.11.2-hff44eed_0 --> 2.9.0-0 \n",
      "  openssl                                 3.0.15-h5eee18b_0 --> 1.1.1w-h7f8727e_0 \n",
      "  pip                                  24.2-py313h06a4308_0 --> 22.3.1-py37h06a4308_0 \n",
      "  python                          3.13.0-hf623796_100_cp313 --> 3.7.16-h7a1cb2a_0 \n",
      "  setuptools                         75.1.0-py313h06a4308_0 --> 65.6.3-py37h06a4308_0 \n",
      "  wheel                              0.44.0-py313h06a4308_0 --> 0.38.4-py37h06a4308_0 \n",
      "\n",
      "\n",
      "\n",
      "Downloading and Extracting Packages\n",
      "pip-22.3.1           | 2.7 MB    |                                       |   0% \n",
      "ncbi-ngs-sdk-2.9.0   | 560 KB    |                                       |   0% \u001b[A\n",
      "\n",
      "openssl-1.1.1w       | 3.7 MB    |                                       |   0% \u001b[A\u001b[A\n",
      "\n",
      "\n",
      "python-3.7.16        | 44.8 MB   |                                       |   0% \u001b[A\u001b[A\u001b[A\n",
      "\n",
      "\n",
      "\n",
      "setuptools-65.6.3    | 1.1 MB    |                                       |   0% \u001b[A\u001b[A\u001b[A\u001b[A\n",
      "\n",
      "\n",
      "\n",
      "\n",
      "wheel-0.38.4         | 63 KB     |                                       |   0% \u001b[A\u001b[A\u001b[A\u001b[A\u001b[A\n",
      "\n",
      "\n",
      "\n",
      "\n",
      "\n",
      "pip-22.3.1           | 2.7 MB    | 2                                     |   1% \u001b[A\u001b[A\u001b[A\u001b[A\u001b[A\u001b[A\n",
      "\n",
      "openssl-1.1.1w       | 3.7 MB    | 1                                     |   0% \u001b[A\u001b[A\n",
      "\n",
      "\n",
      "\n",
      "setuptools-65.6.3    | 1.1 MB    | 5                                     |   1% \u001b[A\u001b[A\u001b[A\u001b[A\n",
      "\n",
      "\n",
      "python-3.7.16        | 44.8 MB   |                                       |   0% \u001b[A\u001b[A\u001b[A\n",
      "\n",
      "\n",
      "python-3.7.16        | 44.8 MB   | ###4                                  |   9% \u001b[A\u001b[A\u001b[A\n",
      "\n",
      "\n",
      "\n",
      "\n",
      "wheel-0.38.4         | 63 KB     | #########3                            |  25% \u001b[A\u001b[A\u001b[A\u001b[A\u001b[A\n",
      "\n",
      "\n",
      "\n",
      "\n",
      "\n",
      "certifi-2022.12.7    | 150 KB    | ###9                                  |  11% \u001b[A\u001b[A\u001b[A\u001b[A\u001b[A\u001b[A\n",
      "ncbi-ngs-sdk-2.9.0   | 560 KB    | #                                     |   3% \u001b[A\n",
      "\n",
      "\n",
      "python-3.7.16        | 44.8 MB   | ############3                         |  33% \u001b[A\u001b[A\u001b[A\n",
      "\n",
      "\n",
      "python-3.7.16        | 44.8 MB   | #####################5                |  58% \u001b[A\u001b[A\u001b[A\n",
      "\n",
      "\n",
      "python-3.7.16        | 44.8 MB   | ##############################9       |  84% \u001b[A\u001b[A\u001b[A\n",
      "\n",
      "openssl-1.1.1w       | 3.7 MB    | ##################################### | 100% \u001b[A\u001b[A\n",
      "\n",
      "openssl-1.1.1w       | 3.7 MB    | ##################################### | 100% \u001b[A\u001b[A\n",
      "\n",
      "\n",
      "\n",
      "\n",
      "wheel-0.38.4         | 63 KB     | ##################################### | 100% \u001b[A\u001b[A\u001b[A\u001b[A\u001b[A\n",
      "\n",
      "\n",
      "\n",
      "\n",
      "wheel-0.38.4         | 63 KB     | ##################################### | 100% \u001b[A\u001b[A\u001b[A\u001b[A\u001b[A\n",
      "\n",
      "\n",
      "\n",
      "\n",
      "\n",
      "certifi-2022.12.7    | 150 KB    | ##################################### | 100% \u001b[A\u001b[A\u001b[A\u001b[A\u001b[A\u001b[A\n",
      "\n",
      "\n",
      "\n",
      "\n",
      "\n",
      "certifi-2022.12.7    | 150 KB    | ##################################### | 100% \u001b[A\u001b[A\u001b[A\u001b[A\u001b[A\u001b[A\n",
      "\n",
      "\n",
      "\n",
      "setuptools-65.6.3    | 1.1 MB    | ##################################### | 100% \u001b[A\u001b[A\u001b[A\u001b[A\n",
      "\n",
      "\n",
      "\n",
      "setuptools-65.6.3    | 1.1 MB    | ##################################### | 100% \u001b[A\u001b[A\u001b[A\u001b[A\n",
      "ncbi-ngs-sdk-2.9.0   | 560 KB    | ##################################### | 100% \u001b[A\n",
      "pip-22.3.1           | 2.7 MB    | ##################################### | 100% \u001b[A\n",
      "\n",
      "\n",
      "                                                                                \u001b[A\u001b[A\u001b[A\n",
      "                                                                                \u001b[A\n",
      "\n",
      "                                                                                \u001b[A\u001b[A\n",
      "\n",
      "\n",
      "                                                                                \u001b[A\u001b[A\u001b[A\n",
      "\n",
      "\n",
      "\n",
      "                                                                                \u001b[A\u001b[A\u001b[A\u001b[A\n",
      "\n",
      "\n",
      "\n",
      "\n",
      "                                                                                \u001b[A\u001b[A\u001b[A\u001b[A\u001b[A\n",
      "\n",
      "\n",
      "\n",
      "\n",
      "\n",
      "                                                                                \u001b[A\u001b[A\u001b[A\u001b[A\u001b[A\u001b[A\n",
      "Preparing transaction: done\n",
      "Verifying transaction: done\n",
      "Executing transaction: done\n",
      "(/storage/group/exd44/default/pmt5304/conda_envs/workshop2) "
     ]
    },
    {
     "ename": "",
     "evalue": "1",
     "output_type": "error",
     "traceback": []
    }
   ],
   "source": [
    "conda install -y bioconda::trimmomatic python=3.7"
   ]
  },
  {
   "cell_type": "markdown",
   "id": "fa3da5cc",
   "metadata": {
    "ExecuteTime": {
     "end_time": "2024-10-19T18:32:24.856857Z",
     "start_time": "2024-10-19T18:32:24.745732Z"
    },
    "heading_collapsed": true
   },
   "source": [
    "#### Step 1. Create a folder for outputfiles"
   ]
  },
  {
   "cell_type": "code",
   "execution_count": 4,
   "id": "e2739161",
   "metadata": {
    "ExecuteTime": {
     "end_time": "2024-10-20T23:01:29.053617Z",
     "start_time": "2024-10-20T23:01:28.939038Z"
    },
    "hidden": true
   },
   "outputs": [
    {
     "name": "stdout",
     "output_type": "stream",
     "text": [
      "(/storage/group/exd44/default/pmt5304/conda_envs/workshop2) "
     ]
    },
    {
     "ename": "",
     "evalue": "1",
     "output_type": "error",
     "traceback": []
    }
   ],
   "source": [
    "mkdir -p $WORKDIR/data/trimmed"
   ]
  },
  {
   "cell_type": "markdown",
   "id": "108d0023",
   "metadata": {
    "heading_collapsed": true
   },
   "source": [
    "#### Step 2. Filter & Trim"
   ]
  },
  {
   "cell_type": "markdown",
   "id": "a9bfaafb",
   "metadata": {
    "hidden": true
   },
   "source": [
    "##### Parameters Explanation"
   ]
  },
  {
   "cell_type": "raw",
   "id": "a5823000",
   "metadata": {
    "hidden": true
   },
   "source": [
    "trimmomatic PE -threads 10 \n",
    "            $WORKDIR/data/raw/${SAMPLE}_1.fastq.gz $WORKDIR/data/raw/${SAMPLE}_2.fastq.gz\n",
    "            $WORKDIR/data/trimmed/${SAMPLE}_1.paired.fastq.gz\n",
    "            $WORKDIR/data/trimmed/${SAMPLE}_1.unpaired.fastq.gz \n",
    "            $WORKDIR/data/trimmed/${SAMPLE}_2.paired.fq.gz \n",
    "            $WORKDIR/data/trimmed/${SAMPLE}_2.unpaired.fq.gz \n",
    "            ILLUMINACLIP:NexteraPE-PE.fa:2:30:10:2:True LEADING:0 TRAILING:0 MINLEN:90"
   ]
  },
  {
   "cell_type": "markdown",
   "id": "6d130aa0",
   "metadata": {
    "hidden": true
   },
   "source": [
    "##### Commands"
   ]
  },
  {
   "cell_type": "code",
   "execution_count": 13,
   "id": "9a268c77",
   "metadata": {
    "ExecuteTime": {
     "end_time": "2024-10-20T23:17:11.147387Z",
     "start_time": "2024-10-20T23:17:11.044288Z"
    },
    "hidden": true
   },
   "outputs": [
    {
     "name": "stdout",
     "output_type": "stream",
     "text": [
      "(/storage/group/exd44/default/pmt5304/conda_envs/workshop2) "
     ]
    },
    {
     "ename": "",
     "evalue": "1",
     "output_type": "error",
     "traceback": []
    }
   ],
   "source": [
    "SAMPLE='SRR6468499'"
   ]
  },
  {
   "cell_type": "code",
   "execution_count": 14,
   "id": "dc85ef3f",
   "metadata": {
    "ExecuteTime": {
     "end_time": "2024-10-20T23:20:31.606495Z",
     "start_time": "2024-10-20T23:17:12.375684Z"
    },
    "hidden": true
   },
   "outputs": [
    {
     "name": "stdout",
     "output_type": "stream",
     "text": [
      "TrimmomaticPE: Started with arguments:\n",
      " -threads 10 /storage/group/exd44/default/pmt5304/DAWG/Workshops/24FA_w2_preprocessing/data/raw/SRR6468499_1.fastq.gz /storage/group/exd44/default/pmt5304/DAWG/Workshops/24FA_w2_preprocessing/data/raw/SRR6468499_2.fastq.gz /storage/group/exd44/default/pmt5304/DAWG/Workshops/24FA_w2_preprocessing/data/trimmed/SRR6468499_1.paired.fastq.gz /storage/group/exd44/default/pmt5304/DAWG/Workshops/24FA_w2_preprocessing/data/trimmed/SRR6468499_1.unpaired.fastq.gz /storage/group/exd44/default/pmt5304/DAWG/Workshops/24FA_w2_preprocessing/data/trimmed/SRR6468499_2.paired.fastq.gz /storage/group/exd44/default/pmt5304/DAWG/Workshops/24FA_w2_preprocessing/data/trimmed/SRR6468499_2.unpaired.fastq.gz ILLUMINACLIP:NexteraPE-PE.fa:2:30:10:2:True LEADING:0 TRAILING:0 MINLEN:90\n",
      "Using PrefixPair: 'AGATGTGTATAAGAGACAG' and 'AGATGTGTATAAGAGACAG'\n",
      "Using Long Clipping Sequence: 'GTCTCGTGGGCTCGGAGATGTGTATAAGAGACAG'\n",
      "Using Long Clipping Sequence: 'TCGTCGGCAGCGTCAGATGTGTATAAGAGACAG'\n",
      "Using Long Clipping Sequence: 'CTGTCTCTTATACACATCTCCGAGCCCACGAGAC'\n",
      "Using Long Clipping Sequence: 'CTGTCTCTTATACACATCTGACGCTGCCGACGA'\n",
      "ILLUMINACLIP: Using 1 prefix pairs, 4 forward/reverse sequences, 0 forward only sequences, 0 reverse only sequences\n",
      "Quality encoding detected as phred33\n",
      "Input Read Pairs: 11775618 Both Surviving: 7839297 (66.57%) Forward Only Surviving: 547127 (4.65%) Reverse Only Surviving: 272765 (2.32%) Dropped: 3116429 (26.47%)\n",
      "TrimmomaticPE: Completed successfully\n",
      "(/storage/group/exd44/default/pmt5304/conda_envs/workshop2) "
     ]
    },
    {
     "ename": "",
     "evalue": "1",
     "output_type": "error",
     "traceback": []
    }
   ],
   "source": [
    "trimmomatic PE -threads 10 $WORKDIR/data/raw/${SAMPLE}_1.fastq.gz $WORKDIR/data/raw/${SAMPLE}_2.fastq.gz $WORKDIR/data/trimmed/${SAMPLE}_1.paired.fastq.gz $WORKDIR/data/trimmed/${SAMPLE}_1.unpaired.fastq.gz $WORKDIR/data/trimmed/${SAMPLE}_2.paired.fastq.gz $WORKDIR/data/trimmed/${SAMPLE}_2.unpaired.fastq.gz ILLUMINACLIP:NexteraPE-PE.fa:2:30:10:2:True LEADING:0 TRAILING:0 MINLEN:90"
   ]
  },
  {
   "cell_type": "code",
   "execution_count": 15,
   "id": "3fae2e5c",
   "metadata": {
    "ExecuteTime": {
     "end_time": "2024-10-20T23:20:58.389368Z",
     "start_time": "2024-10-20T23:20:58.286320Z"
    },
    "hidden": true
   },
   "outputs": [
    {
     "name": "stdout",
     "output_type": "stream",
     "text": [
      "(/storage/group/exd44/default/pmt5304/conda_envs/workshop2) "
     ]
    },
    {
     "ename": "",
     "evalue": "1",
     "output_type": "error",
     "traceback": []
    }
   ],
   "source": [
    "SAMPLE='SRR6468511'"
   ]
  },
  {
   "cell_type": "code",
   "execution_count": 16,
   "id": "0ea028ee",
   "metadata": {
    "ExecuteTime": {
     "end_time": "2024-10-20T23:27:05.334076Z",
     "start_time": "2024-10-20T23:21:00.276080Z"
    },
    "hidden": true
   },
   "outputs": [
    {
     "name": "stdout",
     "output_type": "stream",
     "text": [
      "TrimmomaticPE: Started with arguments:\n",
      " -threads 10 /storage/group/exd44/default/pmt5304/DAWG/Workshops/24FA_w2_preprocessing/data/raw/SRR6468511_1.fastq.gz /storage/group/exd44/default/pmt5304/DAWG/Workshops/24FA_w2_preprocessing/data/raw/SRR6468511_2.fastq.gz /storage/group/exd44/default/pmt5304/DAWG/Workshops/24FA_w2_preprocessing/data/trimmed/SRR6468511_1.paired.fastq.gz /storage/group/exd44/default/pmt5304/DAWG/Workshops/24FA_w2_preprocessing/data/trimmed/SRR6468511_1.unpaired.fastq.gz /storage/group/exd44/default/pmt5304/DAWG/Workshops/24FA_w2_preprocessing/data/trimmed/SRR6468511_2.paired.fastq.gz /storage/group/exd44/default/pmt5304/DAWG/Workshops/24FA_w2_preprocessing/data/trimmed/SRR6468511_2.unpaired.fastq.gz ILLUMINACLIP:NexteraPE-PE.fa:2:30:10:2:True LEADING:0 TRAILING:0 MINLEN:90\n",
      "Using PrefixPair: 'AGATGTGTATAAGAGACAG' and 'AGATGTGTATAAGAGACAG'\n",
      "Using Long Clipping Sequence: 'GTCTCGTGGGCTCGGAGATGTGTATAAGAGACAG'\n",
      "Using Long Clipping Sequence: 'TCGTCGGCAGCGTCAGATGTGTATAAGAGACAG'\n",
      "Using Long Clipping Sequence: 'CTGTCTCTTATACACATCTCCGAGCCCACGAGAC'\n",
      "Using Long Clipping Sequence: 'CTGTCTCTTATACACATCTGACGCTGCCGACGA'\n",
      "ILLUMINACLIP: Using 1 prefix pairs, 4 forward/reverse sequences, 0 forward only sequences, 0 reverse only sequences\n",
      "Quality encoding detected as phred33\n",
      "Input Read Pairs: 17862402 Both Surviving: 15277757 (85.53%) Forward Only Surviving: 1386307 (7.76%) Reverse Only Surviving: 448671 (2.51%) Dropped: 749667 (4.20%)\n",
      "TrimmomaticPE: Completed successfully\n",
      "(/storage/group/exd44/default/pmt5304/conda_envs/workshop2) "
     ]
    },
    {
     "ename": "",
     "evalue": "1",
     "output_type": "error",
     "traceback": []
    }
   ],
   "source": [
    "trimmomatic PE -threads 10 $WORKDIR/data/raw/${SAMPLE}_1.fastq.gz $WORKDIR/data/raw/${SAMPLE}_2.fastq.gz $WORKDIR/data/trimmed/${SAMPLE}_1.paired.fastq.gz $WORKDIR/data/trimmed/${SAMPLE}_1.unpaired.fastq.gz $WORKDIR/data/trimmed/${SAMPLE}_2.paired.fastq.gz $WORKDIR/data/trimmed/${SAMPLE}_2.unpaired.fastq.gz ILLUMINACLIP:NexteraPE-PE.fa:2:30:10:2:True LEADING:0 TRAILING:0 MINLEN:90"
   ]
  },
  {
   "cell_type": "markdown",
   "id": "b5585ae8",
   "metadata": {
    "heading_collapsed": true
   },
   "source": [
    "#### Step 3. Check if the trimming was sussessful by running fastqc again!"
   ]
  },
  {
   "cell_type": "markdown",
   "id": "6bf5c6d4",
   "metadata": {
    "heading_collapsed": true,
    "hidden": true
   },
   "source": [
    "##### Step 3.0 Load a tool: fastqc"
   ]
  },
  {
   "cell_type": "code",
   "execution_count": 17,
   "id": "b4f7c1d0",
   "metadata": {
    "ExecuteTime": {
     "end_time": "2024-10-20T23:27:27.270638Z",
     "start_time": "2024-10-20T23:27:26.757593Z"
    },
    "hidden": true
   },
   "outputs": [
    {
     "name": "stdout",
     "output_type": "stream",
     "text": [
      "(/storage/group/exd44/default/pmt5304/conda_envs/workshop2) "
     ]
    },
    {
     "ename": "",
     "evalue": "1",
     "output_type": "error",
     "traceback": []
    }
   ],
   "source": [
    "module load fastqc/0.11.9"
   ]
  },
  {
   "cell_type": "markdown",
   "id": "f2b4c5aa",
   "metadata": {
    "heading_collapsed": true,
    "hidden": true
   },
   "source": [
    "##### Step 3.1 Create output directory"
   ]
  },
  {
   "cell_type": "code",
   "execution_count": 10,
   "id": "2b019be0",
   "metadata": {
    "ExecuteTime": {
     "end_time": "2024-10-20T23:15:11.845230Z",
     "start_time": "2024-10-20T23:15:11.736511Z"
    },
    "hidden": true
   },
   "outputs": [
    {
     "name": "stdout",
     "output_type": "stream",
     "text": [
      "(/storage/group/exd44/default/pmt5304/conda_envs/workshop2) "
     ]
    },
    {
     "ename": "",
     "evalue": "1",
     "output_type": "error",
     "traceback": []
    }
   ],
   "source": [
    "mkdir fastqc_reports/trimmed"
   ]
  },
  {
   "cell_type": "markdown",
   "id": "5f85d819",
   "metadata": {
    "heading_collapsed": true,
    "hidden": true
   },
   "source": [
    "##### Step 3.2 Run FastQC"
   ]
  },
  {
   "cell_type": "code",
   "execution_count": 18,
   "id": "5eb14a31",
   "metadata": {
    "ExecuteTime": {
     "end_time": "2024-10-20T23:29:09.983374Z",
     "start_time": "2024-10-20T23:27:34.132172Z"
    },
    "hidden": true,
    "scrolled": true
   },
   "outputs": [
    {
     "name": "stdout",
     "output_type": "stream",
     "text": [
      "Started analysis of SRR6468499_1.paired.fastq.gz\n",
      "Started analysis of SRR6468499_2.paired.fastq.gz\n",
      "Started analysis of SRR6468511_1.paired.fastq.gz\n",
      "Started analysis of SRR6468511_2.paired.fastq.gz\n",
      "Approx 5% complete for SRR6468499_1.paired.fastq.gz\n",
      "Approx 5% complete for SRR6468499_2.paired.fastq.gz\n",
      "Approx 10% complete for SRR6468499_1.paired.fastq.gz\n",
      "Approx 5% complete for SRR6468511_1.paired.fastq.gz\n",
      "Approx 10% complete for SRR6468499_2.paired.fastq.gz\n",
      "Approx 5% complete for SRR6468511_2.paired.fastq.gz\n",
      "Approx 15% complete for SRR6468499_1.paired.fastq.gz\n",
      "Approx 15% complete for SRR6468499_2.paired.fastq.gz\n",
      "Approx 10% complete for SRR6468511_1.paired.fastq.gz\n",
      "Approx 10% complete for SRR6468511_2.paired.fastq.gz\n",
      "Approx 20% complete for SRR6468499_1.paired.fastq.gz\n",
      "Approx 20% complete for SRR6468499_2.paired.fastq.gz\n",
      "Approx 25% complete for SRR6468499_1.paired.fastq.gz\n",
      "Approx 25% complete for SRR6468499_2.paired.fastq.gz\n",
      "Approx 15% complete for SRR6468511_1.paired.fastq.gz\n",
      "Approx 15% complete for SRR6468511_2.paired.fastq.gz\n",
      "Approx 30% complete for SRR6468499_1.paired.fastq.gz\n",
      "Approx 30% complete for SRR6468499_2.paired.fastq.gz\n",
      "Approx 35% complete for SRR6468499_1.paired.fastq.gz\n",
      "Approx 20% complete for SRR6468511_1.paired.fastq.gz\n",
      "Approx 35% complete for SRR6468499_2.paired.fastq.gz\n",
      "Approx 20% complete for SRR6468511_2.paired.fastq.gz\n",
      "Approx 40% complete for SRR6468499_1.paired.fastq.gz\n",
      "Approx 40% complete for SRR6468499_2.paired.fastq.gz\n",
      "Approx 25% complete for SRR6468511_1.paired.fastq.gz\n",
      "Approx 45% complete for SRR6468499_1.paired.fastq.gz\n",
      "Approx 45% complete for SRR6468499_2.paired.fastq.gz\n",
      "Approx 25% complete for SRR6468511_2.paired.fastq.gz\n",
      "Approx 50% complete for SRR6468499_1.paired.fastq.gz\n",
      "Approx 50% complete for SRR6468499_2.paired.fastq.gz\n",
      "Approx 30% complete for SRR6468511_1.paired.fastq.gz\n",
      "Approx 55% complete for SRR6468499_1.paired.fastq.gz\n",
      "Approx 30% complete for SRR6468511_2.paired.fastq.gz\n",
      "Approx 55% complete for SRR6468499_2.paired.fastq.gz\n",
      "Approx 60% complete for SRR6468499_1.paired.fastq.gz\n",
      "Approx 60% complete for SRR6468499_2.paired.fastq.gz\n",
      "Approx 35% complete for SRR6468511_1.paired.fastq.gz\n",
      "Approx 65% complete for SRR6468499_1.paired.fastq.gz\n",
      "Approx 35% complete for SRR6468511_2.paired.fastq.gz\n",
      "Approx 65% complete for SRR6468499_2.paired.fastq.gz\n",
      "Approx 70% complete for SRR6468499_1.paired.fastq.gz\n",
      "Approx 70% complete for SRR6468499_2.paired.fastq.gz\n",
      "Approx 40% complete for SRR6468511_1.paired.fastq.gz\n",
      "Approx 75% complete for SRR6468499_1.paired.fastq.gz\n",
      "Approx 40% complete for SRR6468511_2.paired.fastq.gz\n",
      "Approx 75% complete for SRR6468499_2.paired.fastq.gz\n",
      "Approx 80% complete for SRR6468499_1.paired.fastq.gz\n",
      "Approx 80% complete for SRR6468499_2.paired.fastq.gz\n",
      "Approx 45% complete for SRR6468511_1.paired.fastq.gz\n",
      "Approx 85% complete for SRR6468499_1.paired.fastq.gz\n",
      "Approx 45% complete for SRR6468511_2.paired.fastq.gz\n",
      "Approx 85% complete for SRR6468499_2.paired.fastq.gz\n",
      "Approx 90% complete for SRR6468499_1.paired.fastq.gz\n",
      "Approx 90% complete for SRR6468499_2.paired.fastq.gz\n",
      "Approx 50% complete for SRR6468511_1.paired.fastq.gz\n",
      "Approx 95% complete for SRR6468499_1.paired.fastq.gz\n",
      "Approx 50% complete for SRR6468511_2.paired.fastq.gz\n",
      "Approx 95% complete for SRR6468499_2.paired.fastq.gz\n",
      "Analysis complete for SRR6468499_1.paired.fastq.gz\n",
      "Analysis complete for SRR6468499_2.paired.fastq.gz\n",
      "Approx 55% complete for SRR6468511_1.paired.fastq.gz\n",
      "Approx 55% complete for SRR6468511_2.paired.fastq.gz\n",
      "Approx 60% complete for SRR6468511_1.paired.fastq.gz\n",
      "Approx 60% complete for SRR6468511_2.paired.fastq.gz\n",
      "Approx 65% complete for SRR6468511_1.paired.fastq.gz\n",
      "Approx 65% complete for SRR6468511_2.paired.fastq.gz\n",
      "Approx 70% complete for SRR6468511_1.paired.fastq.gz\n",
      "Approx 70% complete for SRR6468511_2.paired.fastq.gz\n",
      "Approx 75% complete for SRR6468511_1.paired.fastq.gz\n",
      "Approx 75% complete for SRR6468511_2.paired.fastq.gz\n",
      "Approx 80% complete for SRR6468511_1.paired.fastq.gz\n",
      "Approx 80% complete for SRR6468511_2.paired.fastq.gz\n",
      "Approx 85% complete for SRR6468511_1.paired.fastq.gz\n",
      "Approx 85% complete for SRR6468511_2.paired.fastq.gz\n",
      "Approx 90% complete for SRR6468511_1.paired.fastq.gz\n",
      "Approx 90% complete for SRR6468511_2.paired.fastq.gz\n",
      "Approx 95% complete for SRR6468511_1.paired.fastq.gz\n",
      "Approx 95% complete for SRR6468511_2.paired.fastq.gz\n",
      "Analysis complete for SRR6468511_1.paired.fastq.gz\n",
      "Analysis complete for SRR6468511_2.paired.fastq.gz\n",
      "(/storage/group/exd44/default/pmt5304/conda_envs/workshop2) "
     ]
    },
    {
     "ename": "",
     "evalue": "1",
     "output_type": "error",
     "traceback": []
    }
   ],
   "source": [
    "fastqc --threads 4 -o fastqc_reports/trimmed \\\n",
    "       $WORKDIR/data/trimmed/SRR6468499_1.paired.fastq.gz \\\n",
    "       $WORKDIR/data/trimmed/SRR6468499_2.paired.fastq.gz \\\n",
    "       $WORKDIR/data/trimmed/SRR6468511_1.paired.fastq.gz \\\n",
    "       $WORKDIR/data/trimmed/SRR6468511_2.paired.fastq.gz"
   ]
  },
  {
   "cell_type": "markdown",
   "id": "7c945e16",
   "metadata": {
    "heading_collapsed": true,
    "hidden": true
   },
   "source": [
    "##### Step 3.3. Unload the module"
   ]
  },
  {
   "cell_type": "code",
   "execution_count": 19,
   "id": "fdc3d148",
   "metadata": {
    "ExecuteTime": {
     "end_time": "2024-10-20T23:30:17.323084Z",
     "start_time": "2024-10-20T23:30:17.157683Z"
    },
    "hidden": true
   },
   "outputs": [
    {
     "name": "stdout",
     "output_type": "stream",
     "text": [
      "(/storage/group/exd44/default/pmt5304/conda_envs/workshop2) "
     ]
    },
    {
     "ename": "",
     "evalue": "1",
     "output_type": "error",
     "traceback": []
    }
   ],
   "source": [
    "module unload fastqc/0.11.9"
   ]
  },
  {
   "cell_type": "markdown",
   "id": "9205e7d3",
   "metadata": {
    "heading_collapsed": true
   },
   "source": [
    "#### Step 4. Look at the reports"
   ]
  },
  {
   "cell_type": "markdown",
   "id": "180705c0",
   "metadata": {
    "hidden": true
   },
   "source": [
    "Please, download files from OnDemand filesystem interface: https://rcportal.hpc.psu.edu  "
   ]
  },
  {
   "cell_type": "markdown",
   "id": "60872601",
   "metadata": {},
   "source": [
    "# Bowtie2 Mapping"
   ]
  },
  {
   "cell_type": "markdown",
   "id": "58cd85f1",
   "metadata": {
    "heading_collapsed": true
   },
   "source": [
    "#### Step 0. Find and install tools. "
   ]
  },
  {
   "cell_type": "markdown",
   "id": "97577d27",
   "metadata": {
    "hidden": true,
    "tags": [
     "alert-danger"
    ]
   },
   "source": [
    "WARNING!!!!!!!! Bowtie2 v.2.4.2 is not working properly in multiprocessing mode! <br>\n",
    "Preinstalled on ROAR Collab Bowtie2 version is 2.4.2 and it is not working as it should! <br>\n",
    "We need to install bowtie2 version XXX from conda by ourselves!!!!!"
   ]
  },
  {
   "cell_type": "code",
   "execution_count": 25,
   "id": "d77d70b1",
   "metadata": {
    "ExecuteTime": {
     "end_time": "2024-10-20T23:54:00.444112Z",
     "start_time": "2024-10-20T23:53:43.185775Z"
    },
    "hidden": true
   },
   "outputs": [
    {
     "name": "stdout",
     "output_type": "stream",
     "text": [
      "Channels:\n",
      " - bioconda\n",
      " - defaults\n",
      "Platform: linux-64\n",
      "Collecting package metadata (repodata.json): done\n",
      "Solving environment: done\n",
      "\n",
      "## Package Plan ##\n",
      "\n",
      "  environment location: /storage/group/exd44/default/pmt5304/conda_envs/workshop2\n",
      "\n",
      "  added / updated specs:\n",
      "    - bowtie2=2.3.5.1\n",
      "\n",
      "\n",
      "The following packages will be downloaded:\n",
      "\n",
      "    package                    |            build\n",
      "    ---------------------------|-----------------\n",
      "    bowtie2-2.3.5.1            |   py37he513fc3_0        12.0 MB  bioconda\n",
      "    tbb-2020.3                 |       hfd86e86_0         1.1 MB\n",
      "    ------------------------------------------------------------\n",
      "                                           Total:        13.1 MB\n",
      "\n",
      "The following NEW packages will be INSTALLED:\n",
      "\n",
      "  bowtie2            bioconda/linux-64::bowtie2-2.3.5.1-py37he513fc3_0 \n",
      "  tbb                pkgs/main/linux-64::tbb-2020.3-hfd86e86_0 \n",
      "\n",
      "\n",
      "\n",
      "Downloading and Extracting Packages\n",
      "tbb-2020.3           | 1.1 MB    |                                       |   0% \n",
      "tbb-2020.3           | 1.1 MB    | 5                                     |   1% \u001b[A\n",
      "bowtie2-2.3.5.1      | 12.0 MB   |                                       |   0% \u001b[A\n",
      "tbb-2020.3           | 1.1 MB    | ##################################### | 100% \u001b[A\n",
      "bowtie2-2.3.5.1      | 12.0 MB   | ##################################### | 100% \u001b[A\n",
      "                                                                                \u001b[A\n",
      "                                                                                \u001b[A\n",
      "Preparing transaction: done\n",
      "Verifying transaction: done\n",
      "Executing transaction: done\n",
      "(/storage/group/exd44/default/pmt5304/conda_envs/workshop2) "
     ]
    },
    {
     "ename": "",
     "evalue": "1",
     "output_type": "error",
     "traceback": []
    }
   ],
   "source": [
    "conda install -y -c bioconda bowtie2=2.3.5.1"
   ]
  },
  {
   "cell_type": "markdown",
   "id": "6176350e",
   "metadata": {
    "heading_collapsed": true
   },
   "source": [
    "#### Step 1. Create output folder"
   ]
  },
  {
   "cell_type": "code",
   "execution_count": 26,
   "id": "08b82b5a",
   "metadata": {
    "ExecuteTime": {
     "end_time": "2024-10-20T23:54:21.028435Z",
     "start_time": "2024-10-20T23:54:20.921402Z"
    },
    "hidden": true
   },
   "outputs": [
    {
     "name": "stdout",
     "output_type": "stream",
     "text": [
      "(/storage/group/exd44/default/pmt5304/conda_envs/workshop2) "
     ]
    },
    {
     "ename": "",
     "evalue": "1",
     "output_type": "error",
     "traceback": []
    }
   ],
   "source": [
    "mkdir -p $WORKDIR/data/bowtie2"
   ]
  },
  {
   "cell_type": "markdown",
   "id": "a6cee24c",
   "metadata": {
    "heading_collapsed": true
   },
   "source": [
    "#### Step 2. Download and prepare reference genome. "
   ]
  },
  {
   "cell_type": "markdown",
   "id": "84242494",
   "metadata": {
    "ExecuteTime": {
     "end_time": "2024-10-19T18:52:02.989817Z",
     "start_time": "2024-10-19T18:52:02.875186Z"
    },
    "heading_collapsed": true,
    "hidden": true
   },
   "source": [
    "##### Step 2.1 Download reference genome"
   ]
  },
  {
   "cell_type": "code",
   "execution_count": 4,
   "id": "7d76977d",
   "metadata": {
    "ExecuteTime": {
     "end_time": "2024-10-21T13:26:33.776276Z",
     "start_time": "2024-10-21T13:25:53.216723Z"
    },
    "hidden": true
   },
   "outputs": [
    {
     "name": "stdout",
     "output_type": "stream",
     "text": [
      "(/storage/group/exd44/default/pmt5304/conda_envs/workshop2) (/storage/group/exd44/default/pmt5304/conda_envs/workshop2) (/storage/group/exd44/default/pmt5304/conda_envs/workshop2) --2024-10-21 09:25:53--  https://hgdownload.soe.ucsc.edu/goldenPath/hg38/bigZips/latest/hg38.fa.gz\n",
      "Resolving hgdownload.soe.ucsc.edu (hgdownload.soe.ucsc.edu)... 128.114.119.163\n",
      "Connecting to hgdownload.soe.ucsc.edu (hgdownload.soe.ucsc.edu)|128.114.119.163|:443... connected.\n",
      "HTTP request sent, awaiting response... 200 OK\n",
      "Length: 1012013082 (965M) [application/x-gzip]\n",
      "Saving to: ‘/storage/group/exd44/default/pmt5304/DAWG/Workshops/24FA_w2_preprocessing/data/reference/hg38.fa.gz’\n",
      "\n",
      "hg38.fa.gz          100%[===================>] 965.13M  44.2MB/s    in 40s     \n",
      "\n",
      "2024-10-21 09:26:33 (24.4 MB/s) - ‘/storage/group/exd44/default/pmt5304/DAWG/Workshops/24FA_w2_preprocessing/data/reference/hg38.fa.gz’ saved [1012013082/1012013082]\n",
      "\n",
      "(/storage/group/exd44/default/pmt5304/conda_envs/workshop2) "
     ]
    },
    {
     "ename": "",
     "evalue": "1",
     "output_type": "error",
     "traceback": []
    }
   ],
   "source": [
    "# create a folder\n",
    "mkdir -p $WORKDIR/data/reference\n",
    "# download human genome\n",
    "wget -P $WORKDIR/data/reference https://hgdownload.soe.ucsc.edu/goldenPath/hg38/bigZips/latest/hg38.fa.gz "
   ]
  },
  {
   "cell_type": "markdown",
   "id": "c5abb121",
   "metadata": {
    "heading_collapsed": true,
    "hidden": true
   },
   "source": [
    "##### Step 2.2 Create a bowtie2 index."
   ]
  },
  {
   "cell_type": "code",
   "execution_count": null,
   "id": "bb8bcfee",
   "metadata": {
    "ExecuteTime": {
     "start_time": "2024-10-21T22:42:31.090Z"
    },
    "hidden": true
   },
   "outputs": [],
   "source": [
    "# ~1 hour\n",
    "bowtie2-build --large-index $WORKDIR/data/reference/hg38.fa.gz $WORKDIR/data/reference/index/hg38\n"
   ]
  },
  {
   "cell_type": "markdown",
   "id": "0f51a0a0",
   "metadata": {
    "heading_collapsed": true
   },
   "source": [
    "#### Step 3. Map reads to the human genome using bowtie2"
   ]
  },
  {
   "cell_type": "code",
   "execution_count": 9,
   "id": "b17c1f79",
   "metadata": {
    "ExecuteTime": {
     "end_time": "2024-10-24T22:02:05.548459Z",
     "start_time": "2024-10-24T22:02:05.394063Z"
    },
    "hidden": true
   },
   "outputs": [
    {
     "name": "stdout",
     "output_type": "stream",
     "text": [
      "(/storage/group/exd44/default/pmt5304/conda_envs/workshop2) (/storage/group/exd44/default/pmt5304/conda_envs/workshop2) "
     ]
    },
    {
     "ename": "",
     "evalue": "1",
     "output_type": "error",
     "traceback": []
    }
   ],
   "source": [
    "# Importantly! You do not need the initially downloaded reference genome, only index!\n",
    "REFERENCE=$INPUT/data/reference/index/hg38\n"
   ]
  },
  {
   "cell_type": "code",
   "execution_count": 10,
   "id": "581dc701",
   "metadata": {
    "ExecuteTime": {
     "end_time": "2024-10-24T22:07:49.826500Z",
     "start_time": "2024-10-24T22:02:39.886399Z"
    },
    "hidden": true
   },
   "outputs": [
    {
     "name": "stdout",
     "output_type": "stream",
     "text": [
      "(/storage/group/exd44/default/pmt5304/conda_envs/workshop2) (/storage/group/exd44/default/pmt5304/conda_envs/workshop2) 7839297 reads; of these:\n",
      "  7839297 (100.00%) were paired; of these:\n",
      "    7839152 (100.00%) aligned concordantly 0 times\n",
      "    82 (0.00%) aligned concordantly exactly 1 time\n",
      "    63 (0.00%) aligned concordantly >1 times\n",
      "    ----\n",
      "    7839152 pairs aligned concordantly 0 times; of these:\n",
      "      6 (0.00%) aligned discordantly 1 time\n",
      "0.00% overall alignment rate\n",
      "(/storage/group/exd44/default/pmt5304/conda_envs/workshop2) "
     ]
    },
    {
     "ename": "",
     "evalue": "1",
     "output_type": "error",
     "traceback": []
    }
   ],
   "source": [
    "SAMPLE='SRR6468499'\n",
    "\n",
    "bowtie2 -x $REFERENCE \\\n",
    "  -1 $WORKDIR/data/trimmed/${SAMPLE}_1.paired.fastq.gz -2 $WORKDIR/data/trimmed/${SAMPLE}_2.paired.fastq.gz \\\n",
    "   --un-conc-gz $WORKDIR/data/bowtie2/${SAMPLE}.unmapped.fastq.gz \\\n",
    "   -S $WORKDIR/data/bowtie2/${SAMPLE}.mapped.sam \\\n",
    "   --no-mixed -p 10 --no-unal"
   ]
  },
  {
   "cell_type": "code",
   "execution_count": 11,
   "id": "c7f7d11c",
   "metadata": {
    "ExecuteTime": {
     "end_time": "2024-10-24T22:18:41.718802Z",
     "start_time": "2024-10-24T22:08:45.679266Z"
    },
    "hidden": true
   },
   "outputs": [
    {
     "name": "stdout",
     "output_type": "stream",
     "text": [
      "(/storage/group/exd44/default/pmt5304/conda_envs/workshop2) (/storage/group/exd44/default/pmt5304/conda_envs/workshop2) 15277757 reads; of these:\n",
      "  15277757 (100.00%) were paired; of these:\n",
      "    15171064 (99.30%) aligned concordantly 0 times\n",
      "    65621 (0.43%) aligned concordantly exactly 1 time\n",
      "    41072 (0.27%) aligned concordantly >1 times\n",
      "    ----\n",
      "    15171064 pairs aligned concordantly 0 times; of these:\n",
      "      125752 (0.83%) aligned discordantly 1 time\n",
      "1.52% overall alignment rate\n",
      "(/storage/group/exd44/default/pmt5304/conda_envs/workshop2) "
     ]
    },
    {
     "ename": "",
     "evalue": "1",
     "output_type": "error",
     "traceback": []
    }
   ],
   "source": [
    "SAMPLE='SRR6468511'\n",
    "\n",
    "bowtie2 -x $REFERENCE \\\n",
    "  -1 $WORKDIR/data/trimmed/${SAMPLE}_1.paired.fastq.gz -2 $WORKDIR/data/trimmed/${SAMPLE}_2.paired.fastq.gz \\\n",
    "   --un-conc-gz data/bowtie2/${SAMPLE}.unmapped.fastq.gz \\\n",
    "   -S data/bowtie2/${SAMPLE}.mapped.sam \\\n",
    "   --no-mixed -p 10 --no-unal"
   ]
  },
  {
   "cell_type": "markdown",
   "id": "ef79241e",
   "metadata": {
    "heading_collapsed": true,
    "tags": [
     "alert-danger"
    ]
   },
   "source": [
    "### Possible errors"
   ]
  },
  {
   "cell_type": "markdown",
   "id": "21441cac",
   "metadata": {
    "hidden": true,
    "tags": [
     "alert-danger"
    ]
   },
   "source": [
    "#### Error 1. Problems with reference genome"
   ]
  },
  {
   "cell_type": "code",
   "execution_count": 5,
   "id": "7162a67b",
   "metadata": {
    "ExecuteTime": {
     "end_time": "2024-10-21T22:49:32.362649Z",
     "start_time": "2024-10-21T22:49:31.684296Z"
    },
    "deletable": false,
    "editable": false,
    "hidden": true,
    "run_control": {
     "frozen": true
    }
   },
   "outputs": [
    {
     "name": "stdout",
     "output_type": "stream",
     "text": [
      "(/storage/group/exd44/default/pmt5304/conda_envs/workshop2) (/storage/group/exd44/default/pmt5304/conda_envs/workshop2) (ERR): \"--no-mixed\" does not exist or is not a Bowtie 2 index\n",
      "Exiting now ...\n",
      "(/storage/group/exd44/default/pmt5304/conda_envs/workshop2) "
     ]
    },
    {
     "ename": "",
     "evalue": "1",
     "output_type": "error",
     "traceback": []
    }
   ],
   "source": [
    "SAMPLE='SRR6468511'\n",
    "\n",
    "bowtie2 -x $REFERENCE \\\n",
    "  -1 $WORKDIR/data/trimmed/${SAMPLE}_1.paired.fastq.gz -2 $WORKDIR/data/trimmed/${SAMPLE}_2.paired.fastq.gz \\\n",
    "   --un-conc-gz data/bowtie2/${SAMPLE}.unmapped.fastq.gz \\\n",
    "   -S data/bowtie2/${SAMPLE}.mapped.sam \\\n",
    "   --no-mixed -p 10"
   ]
  },
  {
   "cell_type": "markdown",
   "id": "40f18362",
   "metadata": {
    "heading_collapsed": true,
    "hidden": true,
    "tags": [
     "alert-warning"
    ]
   },
   "source": [
    "#### Why this happened"
   ]
  },
  {
   "cell_type": "markdown",
   "id": "456bce04",
   "metadata": {
    "hidden": true,
    "tags": [
     "alert-warning"
    ]
   },
   "source": [
    "1. Wrong path to an index if the reference genome\n",
    "2. The reference file was not index / was inproperly indexed / was indexed by another tool, not bowtie2"
   ]
  },
  {
   "cell_type": "markdown",
   "id": "c5e2981d",
   "metadata": {},
   "source": [
    "# Do all steps at once with KneadData"
   ]
  },
  {
   "cell_type": "markdown",
   "id": "1f0a7cf4",
   "metadata": {
    "heading_collapsed": true
   },
   "source": [
    "#### Step 0. Find & install software: kneadata"
   ]
  },
  {
   "cell_type": "code",
   "execution_count": 17,
   "id": "2c372663",
   "metadata": {
    "ExecuteTime": {
     "end_time": "2024-10-24T22:19:41.743416Z",
     "start_time": "2024-10-24T22:19:37.931030Z"
    },
    "hidden": true
   },
   "outputs": [
    {
     "name": "stdout",
     "output_type": "stream",
     "text": [
      "Collecting kneaddata\n",
      "  Using cached kneaddata-0.12.0-py3-none-any.whl\n",
      "Installing collected packages: kneaddata\n",
      "Successfully installed kneaddata-0.12.0\n",
      "(/storage/group/exd44/default/pmt5304/conda_envs/workshop2) "
     ]
    },
    {
     "ename": "",
     "evalue": "1",
     "output_type": "error",
     "traceback": []
    }
   ],
   "source": [
    "pip install kneaddata"
   ]
  },
  {
   "cell_type": "markdown",
   "id": "952d1f8f",
   "metadata": {
    "heading_collapsed": true
   },
   "source": [
    "#### Step 1. Create output directory"
   ]
  },
  {
   "cell_type": "code",
   "execution_count": 14,
   "id": "a4e6adbd",
   "metadata": {
    "ExecuteTime": {
     "end_time": "2024-10-21T23:13:06.605490Z",
     "start_time": "2024-10-21T23:13:06.491561Z"
    },
    "hidden": true
   },
   "outputs": [
    {
     "name": "stdout",
     "output_type": "stream",
     "text": [
      "(/storage/group/exd44/default/pmt5304/conda_envs/workshop2) "
     ]
    },
    {
     "ename": "",
     "evalue": "1",
     "output_type": "error",
     "traceback": []
    }
   ],
   "source": [
    "mkdir data/kneaddata"
   ]
  },
  {
   "cell_type": "markdown",
   "id": "6202af37",
   "metadata": {},
   "source": [
    "#### Step 2. Prepare necessary paths & Run KneadData"
   ]
  },
  {
   "cell_type": "markdown",
   "id": "e268ec8b",
   "metadata": {
    "ExecuteTime": {
     "end_time": "2024-10-21T00:00:41.194640Z",
     "start_time": "2024-10-21T00:00:41.194629Z"
    },
    "heading_collapsed": true
   },
   "source": [
    "##### Step 2.1 Find paths to preinstalled tools: fastqc, bowtie2, trimmomatic"
   ]
  },
  {
   "cell_type": "code",
   "execution_count": 12,
   "id": "49d05c01",
   "metadata": {
    "ExecuteTime": {
     "end_time": "2024-10-24T22:19:18.850820Z",
     "start_time": "2024-10-24T22:19:18.584762Z"
    },
    "hidden": true
   },
   "outputs": [
    {
     "name": "stdout",
     "output_type": "stream",
     "text": [
      "(/storage/group/exd44/default/pmt5304/conda_envs/workshop2) (/storage/group/exd44/default/pmt5304/conda_envs/workshop2) (/storage/group/exd44/default/pmt5304/conda_envs/workshop2) /storage/group/exd44/default/pmt5304/conda_envs/workshop2/bin\n",
      "(/storage/group/exd44/default/pmt5304/conda_envs/workshop2) "
     ]
    },
    {
     "ename": "",
     "evalue": "1",
     "output_type": "error",
     "traceback": []
    }
   ],
   "source": [
    "# find the bowtie2 directory\n",
    "BOWTIE2_PATH=`which bowtie2`\n",
    "BOWTIE2_DIR=\"$(dirname $BOWTIE2_PATH)\"\n",
    "echo $BOWTIE2_DIR"
   ]
  },
  {
   "cell_type": "code",
   "execution_count": 13,
   "id": "c75e7f43",
   "metadata": {
    "ExecuteTime": {
     "end_time": "2024-10-24T22:19:21.065991Z",
     "start_time": "2024-10-24T22:19:20.163277Z"
    },
    "hidden": true
   },
   "outputs": [
    {
     "name": "stdout",
     "output_type": "stream",
     "text": [
      "(/storage/group/exd44/default/pmt5304/conda_envs/workshop2) (/storage/group/exd44/default/pmt5304/conda_envs/workshop2) (/storage/group/exd44/default/pmt5304/conda_envs/workshop2) (/storage/group/exd44/default/pmt5304/conda_envs/workshop2) /swst/apps/fastqc/0.11.9_gcc-8.5.0/bin\n",
      "(/storage/group/exd44/default/pmt5304/conda_envs/workshop2) (/storage/group/exd44/default/pmt5304/conda_envs/workshop2) "
     ]
    },
    {
     "ename": "",
     "evalue": "1",
     "output_type": "error",
     "traceback": []
    }
   ],
   "source": [
    "# find the fastqc directory\n",
    "module load fastqc/0.11.9\n",
    "FASTQC_PATH=`which fastqc`\n",
    "FASTQC_DIR=\"$(dirname $FASTQC_PATH)\"\n",
    "echo $FASTQC_DIR\n",
    "module unload fastqc/0.11.9"
   ]
  },
  {
   "cell_type": "code",
   "execution_count": 14,
   "id": "0920c9ad",
   "metadata": {
    "ExecuteTime": {
     "end_time": "2024-10-24T22:19:21.911354Z",
     "start_time": "2024-10-24T22:19:21.643213Z"
    },
    "hidden": true
   },
   "outputs": [
    {
     "name": "stdout",
     "output_type": "stream",
     "text": [
      "(/storage/group/exd44/default/pmt5304/conda_envs/workshop2) (/storage/group/exd44/default/pmt5304/conda_envs/workshop2) (/storage/group/exd44/default/pmt5304/conda_envs/workshop2) /storage/group/exd44/default/pmt5304/conda_envs/workshop2/share/trimmomatic-0.39-2\n",
      "(/storage/group/exd44/default/pmt5304/conda_envs/workshop2) "
     ]
    },
    {
     "ename": "",
     "evalue": "1",
     "output_type": "error",
     "traceback": []
    }
   ],
   "source": [
    "# find the trimmomatic directory\n",
    "TRIMMOMATIC_PATH=`which trimmomatic`\n",
    "TRIMMOMATIC_DIR=\"$(dirname `readlink -f $TRIMMOMATIC_PATH`)\"\n",
    "echo $TRIMMOMATIC_DIR"
   ]
  },
  {
   "cell_type": "code",
   "execution_count": 26,
   "id": "3cda9064",
   "metadata": {
    "ExecuteTime": {
     "end_time": "2024-10-21T23:19:08.066131Z",
     "start_time": "2024-10-21T23:19:07.953493Z"
    },
    "hidden": true
   },
   "outputs": [
    {
     "name": "stdout",
     "output_type": "stream",
     "text": [
      "(/storage/group/exd44/default/pmt5304/conda_envs/workshop2) "
     ]
    },
    {
     "ename": "",
     "evalue": "1",
     "output_type": "error",
     "traceback": []
    }
   ],
   "source": [
    "# create a symlink to the trimmomatic.jar file in your work directory\n",
    "ln -s $TRIMMOMATIC_DIR/trimmomatic.jar $WORKDIR/trimmomatic"
   ]
  },
  {
   "cell_type": "markdown",
   "id": "fb12de24",
   "metadata": {
    "heading_collapsed": true
   },
   "source": [
    "##### Step 2.2 Define a path to the folder with bowtie2 index of the reference genome"
   ]
  },
  {
   "cell_type": "code",
   "execution_count": 15,
   "id": "db63c21a",
   "metadata": {
    "ExecuteTime": {
     "end_time": "2024-10-24T22:19:27.312545Z",
     "start_time": "2024-10-24T22:19:27.209519Z"
    },
    "hidden": true
   },
   "outputs": [
    {
     "name": "stdout",
     "output_type": "stream",
     "text": [
      "(/storage/group/exd44/default/pmt5304/conda_envs/workshop2) "
     ]
    },
    {
     "ename": "",
     "evalue": "1",
     "output_type": "error",
     "traceback": []
    }
   ],
   "source": [
    "REFERENCE=$INPUT/data/reference/index"
   ]
  },
  {
   "cell_type": "markdown",
   "id": "c7c60687",
   "metadata": {},
   "source": [
    "#### Step 2.3 Run KneadData"
   ]
  },
  {
   "cell_type": "code",
   "execution_count": 19,
   "id": "de99caad",
   "metadata": {
    "ExecuteTime": {
     "end_time": "2024-10-24T22:51:05.588688Z",
     "start_time": "2024-10-24T22:40:49.874699Z"
    }
   },
   "outputs": [
    {
     "name": "stdout",
     "output_type": "stream",
     "text": [
      "(/storage/group/exd44/default/pmt5304/conda_envs/workshop2) (/storage/group/exd44/default/pmt5304/conda_envs/workshop2) Decompressing gzipped file ...\n",
      "\n",
      "Decompressing gzipped file ...\n",
      "\n",
      "Reformatting file sequence identifiers ...\n",
      "\n",
      "Reformatting file sequence identifiers ...\n",
      "\n",
      "Reordering read identifiers ...\n",
      "\n",
      "Initial number of reads ( /storage/group/exd44/default/pmt5304/DAWG/Workshops/24FA_w2_preprocessing/data/kneaddata/SRR6468499/reordered__stnsilb_reformatted_identifiers1xeebh32_decompressed_04wcgxhg_SRR6468499_1 ): 11775766.0\n",
      "Initial number of reads ( /storage/group/exd44/default/pmt5304/DAWG/Workshops/24FA_w2_preprocessing/data/kneaddata/SRR6468499/reordered_art6jqdg_reformatted_identifiersqr40x725_decompressed_njtz9_8a_SRR6468499_2 ): 11775618.0\n",
      "Running fastqc ... \n",
      "Running Trimmomatic ... \n",
      "Total reads after trimming ( /storage/group/exd44/default/pmt5304/DAWG/Workshops/24FA_w2_preprocessing/data/kneaddata/SRR6468499/SRR6468499_1_kneaddata.trimmed.1.fastq ): 6468285.0\n",
      "Total reads after trimming ( /storage/group/exd44/default/pmt5304/DAWG/Workshops/24FA_w2_preprocessing/data/kneaddata/SRR6468499/SRR6468499_1_kneaddata.trimmed.2.fastq ): 6468285.0\n",
      "Total reads after trimming ( /storage/group/exd44/default/pmt5304/DAWG/Workshops/24FA_w2_preprocessing/data/kneaddata/SRR6468499/SRR6468499_1_kneaddata.trimmed.single.1.fastq ): 2159625.0\n",
      "Total reads after trimming ( /storage/group/exd44/default/pmt5304/DAWG/Workshops/24FA_w2_preprocessing/data/kneaddata/SRR6468499/SRR6468499_1_kneaddata.trimmed.single.2.fastq ): 1883179.0\n",
      "Decontaminating ...\n",
      "Running bowtie2 ... \n",
      "Total reads after removing those found in reference database ( /storage/group/exd44/default/pmt5304/DAWG/Workshops/24FA_w2_preprocessing/data/kneaddata/SRR6468499/SRR6468499_1_kneaddata_hg38_bowtie2_paired_clean_1.fastq ): 6936843.0\n",
      "Total reads after removing those found in reference database ( /storage/group/exd44/default/pmt5304/DAWG/Workshops/24FA_w2_preprocessing/data/kneaddata/SRR6468499/SRR6468499_1_kneaddata_hg38_bowtie2_paired_clean_2.fastq ): 6936843.0\n",
      "Total reads after merging results from multiple databases ( /storage/group/exd44/default/pmt5304/DAWG/Workshops/24FA_w2_preprocessing/data/kneaddata/SRR6468499/SRR6468499_1_kneaddata_paired_1.fastq ): 6936843.0\n",
      "Total reads after merging results from multiple databases ( /storage/group/exd44/default/pmt5304/DAWG/Workshops/24FA_w2_preprocessing/data/kneaddata/SRR6468499/SRR6468499_1_kneaddata_paired_2.fastq ): 6936843.0\n",
      "Total reads after removing those found in reference database ( /storage/group/exd44/default/pmt5304/DAWG/Workshops/24FA_w2_preprocessing/data/kneaddata/SRR6468499/SRR6468499_1_kneaddata_hg38_bowtie2_unmatched_1_clean.fastq ): 1689029.0\n",
      "Total reads after merging results from multiple databases ( /storage/group/exd44/default/pmt5304/DAWG/Workshops/24FA_w2_preprocessing/data/kneaddata/SRR6468499/SRR6468499_1_kneaddata_unmatched_1.fastq ): 1689029.0\n",
      "Total reads after removing those found in reference database ( /storage/group/exd44/default/pmt5304/DAWG/Workshops/24FA_w2_preprocessing/data/kneaddata/SRR6468499/SRR6468499_1_kneaddata_hg38_bowtie2_unmatched_2_clean.fastq ): 1412625.0\n",
      "Total reads after merging results from multiple databases ( /storage/group/exd44/default/pmt5304/DAWG/Workshops/24FA_w2_preprocessing/data/kneaddata/SRR6468499/SRR6468499_1_kneaddata_unmatched_2.fastq ): 1412625.0\n",
      "Running fastqc ... \n",
      "\n",
      "Final output files created: \n",
      "/storage/group/exd44/default/pmt5304/DAWG/Workshops/24FA_w2_preprocessing/data/kneaddata/SRR6468499/SRR6468499_1_kneaddata_paired_1.fastq\n",
      "/storage/group/exd44/default/pmt5304/DAWG/Workshops/24FA_w2_preprocessing/data/kneaddata/SRR6468499/SRR6468499_1_kneaddata_paired_2.fastq\n",
      "/storage/group/exd44/default/pmt5304/DAWG/Workshops/24FA_w2_preprocessing/data/kneaddata/SRR6468499/SRR6468499_1_kneaddata_unmatched_1.fastq\n",
      "/storage/group/exd44/default/pmt5304/DAWG/Workshops/24FA_w2_preprocessing/data/kneaddata/SRR6468499/SRR6468499_1_kneaddata_unmatched_2.fastq\n",
      "\n",
      "(/storage/group/exd44/default/pmt5304/conda_envs/workshop2) "
     ]
    },
    {
     "ename": "",
     "evalue": "1",
     "output_type": "error",
     "traceback": []
    }
   ],
   "source": [
    "SAMPLE='SRR6468499'\n",
    "\n",
    "kneaddata --input1 $WORKDIR/data/raw/${SAMPLE}_1.fastq.gz \\\n",
    "          --input2 $WORKDIR/data/raw/${SAMPLE}_2.fastq.gz \\\n",
    "           -db $REFERENCE \\\n",
    "           --output data/kneaddata/${SAMPLE} \\\n",
    "           --bowtie2 $BOWTIE2_DIR \\\n",
    "           --bypass-trf \\\n",
    "           --run-fastqc-start \\\n",
    "           --run-fastqc-end \\\n",
    "           -t 10 \\\n",
    "           --trimmomatic $WORKDIR \\\n",
    "           --trimmomatic-options=\"ILLUMINACLIP:NexteraPE-PE.fa:2:30:10:2:True\" \\\n",
    "           --trimmomatic-options=\"LEADING:0\" \\\n",
    "           --trimmomatic-options=\"TRAILING:0\" \\\n",
    "           --trimmomatic-options=\"MINLEN:90\" \\\n",
    "           --fastqc $FASTQC_DIR"
   ]
  },
  {
   "cell_type": "code",
   "execution_count": 18,
   "id": "519508f0",
   "metadata": {
    "ExecuteTime": {
     "end_time": "2024-10-24T22:38:23.030212Z",
     "start_time": "2024-10-24T22:19:47.494198Z"
    }
   },
   "outputs": [
    {
     "name": "stdout",
     "output_type": "stream",
     "text": [
      "(/storage/group/exd44/default/pmt5304/conda_envs/workshop2) (/storage/group/exd44/default/pmt5304/conda_envs/workshop2) Decompressing gzipped file ...\n",
      "\n",
      "Decompressing gzipped file ...\n",
      "\n",
      "Reformatting file sequence identifiers ...\n",
      "\n",
      "Reformatting file sequence identifiers ...\n",
      "\n",
      "Reordering read identifiers ...\n",
      "\n",
      "Initial number of reads ( /storage/group/exd44/default/pmt5304/DAWG/Workshops/24FA_w2_preprocessing/data/kneaddata/SRR6468511/reordered_omoz8gah_reformatted_identifiersjancwy5n_decompressed_og0lz3k2_SRR6468511_1 ): 17871301.0\n",
      "Initial number of reads ( /storage/group/exd44/default/pmt5304/DAWG/Workshops/24FA_w2_preprocessing/data/kneaddata/SRR6468511/reordered_hicr8khn_reformatted_identifiers_dt49bmz_decompressed_lkx_fjl8_SRR6468511_2 ): 17862402.0\n",
      "Running fastqc ... \n",
      "Running Trimmomatic ... \n",
      "Total reads after trimming ( /storage/group/exd44/default/pmt5304/DAWG/Workshops/24FA_w2_preprocessing/data/kneaddata/SRR6468511/SRR6468511_1_kneaddata.trimmed.1.fastq ): 14921051.0\n",
      "Total reads after trimming ( /storage/group/exd44/default/pmt5304/DAWG/Workshops/24FA_w2_preprocessing/data/kneaddata/SRR6468511/SRR6468511_1_kneaddata.trimmed.2.fastq ): 14921051.0\n",
      "Total reads after trimming ( /storage/group/exd44/default/pmt5304/DAWG/Workshops/24FA_w2_preprocessing/data/kneaddata/SRR6468511/SRR6468511_1_kneaddata.trimmed.single.1.fastq ): 1749083.0\n",
      "Total reads after trimming ( /storage/group/exd44/default/pmt5304/DAWG/Workshops/24FA_w2_preprocessing/data/kneaddata/SRR6468511/SRR6468511_1_kneaddata.trimmed.single.2.fastq ): 809402.0\n",
      "Decontaminating ...\n",
      "Running bowtie2 ... \n",
      "Total reads after removing those found in reference database ( /storage/group/exd44/default/pmt5304/DAWG/Workshops/24FA_w2_preprocessing/data/kneaddata/SRR6468511/SRR6468511_1_kneaddata_hg38_bowtie2_paired_clean_1.fastq ): 12593905.0\n",
      "Total reads after removing those found in reference database ( /storage/group/exd44/default/pmt5304/DAWG/Workshops/24FA_w2_preprocessing/data/kneaddata/SRR6468511/SRR6468511_1_kneaddata_hg38_bowtie2_paired_clean_2.fastq ): 12593905.0\n",
      "Total reads after merging results from multiple databases ( /storage/group/exd44/default/pmt5304/DAWG/Workshops/24FA_w2_preprocessing/data/kneaddata/SRR6468511/SRR6468511_1_kneaddata_paired_1.fastq ): 12593905.0\n",
      "Total reads after merging results from multiple databases ( /storage/group/exd44/default/pmt5304/DAWG/Workshops/24FA_w2_preprocessing/data/kneaddata/SRR6468511/SRR6468511_1_kneaddata_paired_2.fastq ): 12593905.0\n",
      "Total reads after removing those found in reference database ( /storage/group/exd44/default/pmt5304/DAWG/Workshops/24FA_w2_preprocessing/data/kneaddata/SRR6468511/SRR6468511_1_kneaddata_hg38_bowtie2_unmatched_1_clean.fastq ): 3644791.0\n",
      "Total reads after merging results from multiple databases ( /storage/group/exd44/default/pmt5304/DAWG/Workshops/24FA_w2_preprocessing/data/kneaddata/SRR6468511/SRR6468511_1_kneaddata_unmatched_1.fastq ): 3644791.0\n",
      "Total reads after removing those found in reference database ( /storage/group/exd44/default/pmt5304/DAWG/Workshops/24FA_w2_preprocessing/data/kneaddata/SRR6468511/SRR6468511_1_kneaddata_hg38_bowtie2_unmatched_2_clean.fastq ): 2746700.0\n",
      "Total reads after merging results from multiple databases ( /storage/group/exd44/default/pmt5304/DAWG/Workshops/24FA_w2_preprocessing/data/kneaddata/SRR6468511/SRR6468511_1_kneaddata_unmatched_2.fastq ): 2746700.0\n",
      "Running fastqc ... \n",
      "\n",
      "Final output files created: \n",
      "/storage/group/exd44/default/pmt5304/DAWG/Workshops/24FA_w2_preprocessing/data/kneaddata/SRR6468511/SRR6468511_1_kneaddata_paired_1.fastq\n",
      "/storage/group/exd44/default/pmt5304/DAWG/Workshops/24FA_w2_preprocessing/data/kneaddata/SRR6468511/SRR6468511_1_kneaddata_paired_2.fastq\n",
      "/storage/group/exd44/default/pmt5304/DAWG/Workshops/24FA_w2_preprocessing/data/kneaddata/SRR6468511/SRR6468511_1_kneaddata_unmatched_1.fastq\n",
      "/storage/group/exd44/default/pmt5304/DAWG/Workshops/24FA_w2_preprocessing/data/kneaddata/SRR6468511/SRR6468511_1_kneaddata_unmatched_2.fastq\n",
      "\n",
      "(/storage/group/exd44/default/pmt5304/conda_envs/workshop2) "
     ]
    },
    {
     "ename": "",
     "evalue": "1",
     "output_type": "error",
     "traceback": []
    }
   ],
   "source": [
    "SAMPLE='SRR6468511'\n",
    "\n",
    "kneaddata --input1 $WORKDIR/data/raw/${SAMPLE}_1.fastq.gz \\\n",
    "          --input2 $WORKDIR/data/raw/${SAMPLE}_2.fastq.gz \\\n",
    "           -db $REFERENCE \\\n",
    "           --output data/kneaddata/${SAMPLE} \\\n",
    "           --bowtie2 $BOWTIE2_DIR \\\n",
    "           --bypass-trf \\\n",
    "           --run-fastqc-start \\\n",
    "           --run-fastqc-end \\\n",
    "           -t 10 \\\n",
    "           --trimmomatic $WORKDIR \\\n",
    "           --trimmomatic-options=\"ILLUMINACLIP:NexteraPE-PE.fa:2:30:10:2:True\" \\\n",
    "           --trimmomatic-options=\"LEADING:0\" \\\n",
    "           --trimmomatic-options=\"TRAILING:0\" \\\n",
    "           --trimmomatic-options=\"MINLEN:90\" \\\n",
    "           --fastqc $FASTQC_DIR"
   ]
  },
  {
   "cell_type": "markdown",
   "id": "dff61dda",
   "metadata": {
    "tags": [
     "alert-danger"
    ]
   },
   "source": [
    "### Possible errors"
   ]
  },
  {
   "cell_type": "markdown",
   "id": "51d95543",
   "metadata": {
    "tags": [
     "alert-danger"
    ]
   },
   "source": [
    "#### Error 1. Unable to find trf"
   ]
  },
  {
   "cell_type": "code",
   "execution_count": 23,
   "id": "8f380878",
   "metadata": {
    "ExecuteTime": {
     "end_time": "2024-10-19T20:32:06.843314Z",
     "start_time": "2024-10-19T20:32:06.211923Z"
    },
    "tags": [
     "alert-danger"
    ]
   },
   "outputs": [
    {
     "name": "stdout",
     "output_type": "stream",
     "text": [
      "(/storage/group/exd44/default/pmt5304/conda_envs/workshop) (/storage/group/exd44/default/pmt5304/conda_envs/workshop) ERROR: Unable to find trf. Please provide the full path to trf with --trf.\n",
      "(/storage/group/exd44/default/pmt5304/conda_envs/workshop) "
     ]
    },
    {
     "ename": "",
     "evalue": "1",
     "output_type": "error",
     "traceback": []
    }
   ],
   "source": [
    "SAMPLE='SRR6468511'\n",
    "\n",
    "kneaddata --input1 data/${SAMPLE}_1.fastq.gz \\\n",
    "          --input2 data/${SAMPLE}_2.fastq.gz \\\n",
    "           -db $REFERENCE \\\n",
    "           --output data/kneaddata \\\n",
    "           --bowtie2 '/storage/work/pmt5304/anaconda3/envs/biosoft/bin/'"
   ]
  },
  {
   "cell_type": "markdown",
   "id": "bc2593cd",
   "metadata": {
    "heading_collapsed": true,
    "tags": [
     "alert-warning"
    ]
   },
   "source": [
    "#### Why this happened"
   ]
  },
  {
   "cell_type": "markdown",
   "id": "73756311",
   "metadata": {
    "hidden": true,
    "tags": [
     "alert-warning"
    ]
   },
   "source": [
    "You did not provide path to [trf](https://tandem.bu.edu/trf/trf.html) [tandem repeats finder] tool, that trims repetitive regions. This is an optional step of the pipeline, and it is not that common. To avoid the error, you may bypass this step by adding option: `--bypass-trf` or installing trf tool, and providing a path to it viw parameter `--trf`"
   ]
  },
  {
   "cell_type": "markdown",
   "id": "e9bed697",
   "metadata": {
    "tags": [
     "alert-danger"
    ]
   },
   "source": [
    "#### Error 2. Unable to find bowtie2."
   ]
  },
  {
   "cell_type": "code",
   "execution_count": 20,
   "id": "fcc341ac",
   "metadata": {
    "ExecuteTime": {
     "end_time": "2024-10-19T20:30:36.491939Z",
     "start_time": "2024-10-19T20:30:35.989110Z"
    },
    "tags": [
     "alert-danger"
    ]
   },
   "outputs": [
    {
     "name": "stdout",
     "output_type": "stream",
     "text": [
      "(/storage/group/exd44/default/pmt5304/conda_envs/workshop) (/storage/group/exd44/default/pmt5304/conda_envs/workshop) ERROR: Unable to find bowtie2. Please provide the full path to bowtie2 with --bowtie2.\n",
      "(/storage/group/exd44/default/pmt5304/conda_envs/workshop) "
     ]
    },
    {
     "ename": "",
     "evalue": "1",
     "output_type": "error",
     "traceback": []
    }
   ],
   "source": [
    "SAMPLE='SRR6468511'\n",
    "\n",
    "kneaddata --input1 data/${SAMPLE}_1.fastq.gz \\\n",
    "          --input2 data/${SAMPLE}_2.fastq.gz \\\n",
    "           -db $REFERENCE \\\n",
    "           --output data/kneaddata "
   ]
  },
  {
   "cell_type": "markdown",
   "id": "11c0260b",
   "metadata": {
    "heading_collapsed": true,
    "tags": [
     "alert-warning"
    ]
   },
   "source": [
    "#### Why this happened"
   ]
  },
  {
   "cell_type": "markdown",
   "id": "c02e6034",
   "metadata": {
    "hidden": true,
    "tags": [
     "alert-warning"
    ]
   },
   "source": [
    "You did not provide path to the bowtie2 or provided a wrong path. To check, please look at the directory (you may use `ls` command), you provided to the KneadData and ensure that: i) this directory exists; ii) there is a bowtie2 file in it; iii) bowtie2 is executable."
   ]
  },
  {
   "cell_type": "markdown",
   "id": "d361c127",
   "metadata": {
    "tags": [
     "alert-danger"
    ]
   },
   "source": [
    "#### Error 3. Unable to find bowtie2 index files in directory"
   ]
  },
  {
   "cell_type": "code",
   "execution_count": 24,
   "id": "3552cecb",
   "metadata": {
    "ExecuteTime": {
     "end_time": "2024-10-19T20:34:15.610314Z",
     "start_time": "2024-10-19T20:34:14.962056Z"
    },
    "tags": [
     "alert-danger"
    ]
   },
   "outputs": [
    {
     "name": "stdout",
     "output_type": "stream",
     "text": [
      "(/storage/group/exd44/default/pmt5304/conda_envs/workshop) (/storage/group/exd44/default/pmt5304/conda_envs/workshop) ERROR: Unable to find bowtie2 index files in directory: /storage/group/exd44/default/pmt5304/Misc/Ganda_samples/data/reference/hg38.fa\n",
      "(/storage/group/exd44/default/pmt5304/conda_envs/workshop) "
     ]
    },
    {
     "ename": "",
     "evalue": "1",
     "output_type": "error",
     "traceback": []
    }
   ],
   "source": [
    "SAMPLE='SRR6468511'\n",
    "\n",
    "kneaddata --input1 data/${SAMPLE}_1.fastq.gz \\\n",
    "          --input2 data/${SAMPLE}_2.fastq.gz \\\n",
    "           -db $REFERENCE \\\n",
    "           --output data/kneaddata \\\n",
    "           --bowtie2 '/storage/work/pmt5304/anaconda3/envs/biosoft/bin/' \\\n",
    "           --bypass-trf"
   ]
  },
  {
   "cell_type": "markdown",
   "id": "2fe03b79",
   "metadata": {
    "heading_collapsed": true,
    "tags": [
     "alert-warning"
    ]
   },
   "source": [
    "#### Why this happened"
   ]
  },
  {
   "cell_type": "markdown",
   "id": "5fdccd75",
   "metadata": {
    "ExecuteTime": {
     "end_time": "2024-10-21T23:07:15.697751Z",
     "start_time": "2024-10-21T23:07:15.585197Z"
    },
    "hidden": true,
    "tags": [
     "alert-warning"
    ]
   },
   "source": [
    "1. You provided wrong directory/mistyped.\n",
    "2. You provided not directory, but directory+basename, as you would have provided to bowtie2 directly."
   ]
  },
  {
   "cell_type": "markdown",
   "id": "6fc3223b",
   "metadata": {
    "tags": [
     "alert-danger"
    ]
   },
   "source": [
    "#### Error 4. Trimmomatic: Invalid or corrupt jarfile"
   ]
  },
  {
   "cell_type": "code",
   "execution_count": 25,
   "id": "256cdb21",
   "metadata": {
    "ExecuteTime": {
     "end_time": "2024-10-19T20:39:36.274363Z",
     "start_time": "2024-10-19T20:35:02.451583Z"
    },
    "scrolled": false,
    "tags": [
     "alert-danger"
    ]
   },
   "outputs": [
    {
     "name": "stdout",
     "output_type": "stream",
     "text": [
      "(/storage/group/exd44/default/pmt5304/conda_envs/workshop) (/storage/group/exd44/default/pmt5304/conda_envs/workshop) Decompressing gzipped file ...\n",
      "\n",
      "Decompressing gzipped file ...\n",
      "\n",
      "Reformatting file sequence identifiers ...\n",
      "\n",
      "Reformatting file sequence identifiers ...\n",
      "\n",
      "Reordering read identifiers ...\n",
      "\n",
      "Initial number of reads ( /storage/group/exd44/default/pmt5304/DAWG/Workshops/24FA_w2_preprocessing/data/kneaddata/reordered__9ve4exf_reformatted_identifiers111c8urx_decompressed_sx8m8qr5_SRR6468511_1 ): 17871301.0\n",
      "Initial number of reads ( /storage/group/exd44/default/pmt5304/DAWG/Workshops/24FA_w2_preprocessing/data/kneaddata/reordered_kvk8gjxp_reformatted_identifiersqdtux4x1_decompressed_qzhkshzo_SRR6468511_2 ): 17862402.0\n",
      "Running Trimmomatic ... \n",
      "CRITICAL ERROR: Error executing: java -Xmx500m -jar /storage/group/exd44/default/pmt5304/conda_envs/workshop/bin/trimmomatic PE -threads 1 -phred33 /storage/group/exd44/default/pmt5304/DAWG/Workshops/24FA_w2_preprocessing/data/kneaddata/reordered__9ve4exf_reformatted_identifiers111c8urx_decompressed_sx8m8qr5_SRR6468511_1 /storage/group/exd44/default/pmt5304/DAWG/Workshops/24FA_w2_preprocessing/data/kneaddata/reordered_kvk8gjxp_reformatted_identifiersqdtux4x1_decompressed_qzhkshzo_SRR6468511_2 /storage/group/exd44/default/pmt5304/DAWG/Workshops/24FA_w2_preprocessing/data/kneaddata/SRR6468511_1_kneaddata.trimmed.1.fastq /storage/group/exd44/default/pmt5304/DAWG/Workshops/24FA_w2_preprocessing/data/kneaddata/SRR6468511_1_kneaddata.trimmed.single.1.fastq /storage/group/exd44/default/pmt5304/DAWG/Workshops/24FA_w2_preprocessing/data/kneaddata/SRR6468511_1_kneaddata.trimmed.2.fastq /storage/group/exd44/default/pmt5304/DAWG/Workshops/24FA_w2_preprocessing/data/kneaddata/SRR6468511_1_kneaddata.trimmed.single.2.fastq MINLEN:60 ILLUMINACLIP:/storage/group/exd44/default/pmt5304/conda_envs/workshop/lib/python3.13/site-packages/kneaddata/adapters/NexteraPE-PE.fa:2:30:10:8:TRUE SLIDINGWINDOW:4:20 MINLEN:50\n",
      "\n",
      "Error message returned from Trimmomatic :\n",
      "Error: Invalid or corrupt jarfile /storage/group/exd44/default/pmt5304/conda_envs/workshop/bin/trimmomatic\n",
      "\n",
      "(/storage/group/exd44/default/pmt5304/conda_envs/workshop) "
     ]
    },
    {
     "ename": "",
     "evalue": "1",
     "output_type": "error",
     "traceback": []
    }
   ],
   "source": [
    "SAMPLE='SRR6468511'\n",
    "\n",
    "kneaddata --input1 data/${SAMPLE}_1.fastq.gz \\\n",
    "          --input2 data/${SAMPLE}_2.fastq.gz \\\n",
    "           -db '/storage/group/exd44/default/pmt5304/Misc/Ganda_samples/data/reference/' \\\n",
    "           --output data/kneaddata \\\n",
    "           --bowtie2 '/storage/work/pmt5304/anaconda3/envs/biosoft/bin/' \\\n",
    "           --bypass-trf \\\n",
    "           --run-fastqc-start \\\n",
    "           --run-fastqc-end \\ \n",
    "#     trimmomatic args\n",
    "            --sequencer-source \"NexteraPE\" \\\n",
    "            --trimmomatic-options"
   ]
  },
  {
   "cell_type": "markdown",
   "id": "e91e7daf",
   "metadata": {
    "heading_collapsed": true,
    "tags": [
     "alert-warning"
    ]
   },
   "source": [
    "#### Why this happened"
   ]
  },
  {
   "cell_type": "markdown",
   "id": "018c7f44",
   "metadata": {
    "hidden": true,
    "tags": [
     "alert-warning"
    ]
   },
   "source": [
    "1. The path is incorrect. \n",
    "2. if you installed trimmomatic using conda, a `trimmomatic` file in this directory is not `.jar` file, that KneadData requires. You need to create a symlink, named `trimmomatic` to the `.jar` file in a directory, that does not contain any other `trimmomatic` files. "
   ]
  },
  {
   "cell_type": "markdown",
   "id": "d0ee899c",
   "metadata": {
    "heading_collapsed": true
   },
   "source": [
    "# Closing commands"
   ]
  },
  {
   "cell_type": "markdown",
   "id": "b7d05a56",
   "metadata": {
    "hidden": true
   },
   "source": [
    "## Deactivate environment"
   ]
  },
  {
   "cell_type": "code",
   "execution_count": null,
   "id": "708180e9",
   "metadata": {
    "hidden": true
   },
   "outputs": [],
   "source": [
    "conda deactivate"
   ]
  },
  {
   "cell_type": "markdown",
   "id": "cba7976f",
   "metadata": {
    "hidden": true
   },
   "source": [
    "## Remove the environment"
   ]
  },
  {
   "cell_type": "code",
   "execution_count": null,
   "id": "3d86d669",
   "metadata": {
    "hidden": true
   },
   "outputs": [],
   "source": [
    "conda remove --name workshop2 --all"
   ]
  }
 ],
 "metadata": {
  "kernelspec": {
   "display_name": "Bash",
   "language": "bash",
   "name": "bash"
  },
  "language_info": {
   "codemirror_mode": "shell",
   "file_extension": ".sh",
   "mimetype": "text/x-sh",
   "name": "bash"
  },
  "varInspector": {
   "cols": {
    "lenName": 16,
    "lenType": 16,
    "lenVar": 40
   },
   "kernels_config": {
    "python": {
     "delete_cmd_postfix": "",
     "delete_cmd_prefix": "del ",
     "library": "var_list.py",
     "varRefreshCmd": "print(var_dic_list())"
    },
    "r": {
     "delete_cmd_postfix": ") ",
     "delete_cmd_prefix": "rm(",
     "library": "var_list.r",
     "varRefreshCmd": "cat(var_dic_list()) "
    }
   },
   "types_to_exclude": [
    "module",
    "function",
    "builtin_function_or_method",
    "instance",
    "_Feature"
   ],
   "window_display": false
  }
 },
 "nbformat": 4,
 "nbformat_minor": 5
}
